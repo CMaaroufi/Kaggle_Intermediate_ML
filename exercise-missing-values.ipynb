{
 "cells": [
  {
   "cell_type": "markdown",
   "id": "08d4994f",
   "metadata": {
    "papermill": {
     "duration": 0.036609,
     "end_time": "2022-04-06T14:04:47.763801",
     "exception": false,
     "start_time": "2022-04-06T14:04:47.727192",
     "status": "completed"
    },
    "tags": []
   },
   "source": [
    "**This notebook is an exercise in the [Intermediate Machine Learning](https://www.kaggle.com/learn/intermediate-machine-learning) course.  You can reference the tutorial at [this link](https://www.kaggle.com/alexisbcook/missing-values).**\n",
    "\n",
    "---\n"
   ]
  },
  {
   "cell_type": "markdown",
   "id": "0589251d",
   "metadata": {
    "papermill": {
     "duration": 0.034184,
     "end_time": "2022-04-06T14:04:47.833608",
     "exception": false,
     "start_time": "2022-04-06T14:04:47.799424",
     "status": "completed"
    },
    "tags": []
   },
   "source": [
    "Now it's your turn to test your new knowledge of **missing values** handling. You'll probably find it makes a big difference.\n",
    "\n",
    "# Setup\n",
    "\n",
    "The questions will give you feedback on your work. Run the following cell to set up the feedback system."
   ]
  },
  {
   "cell_type": "code",
   "execution_count": 1,
   "id": "9e31b239",
   "metadata": {
    "execution": {
     "iopub.execute_input": "2022-04-06T14:04:47.906176Z",
     "iopub.status.busy": "2022-04-06T14:04:47.904974Z",
     "iopub.status.idle": "2022-04-06T14:04:47.950043Z",
     "shell.execute_reply": "2022-04-06T14:04:47.950588Z",
     "shell.execute_reply.started": "2022-04-06T14:03:51.388481Z"
    },
    "papermill": {
     "duration": 0.083022,
     "end_time": "2022-04-06T14:04:47.950903",
     "exception": false,
     "start_time": "2022-04-06T14:04:47.867881",
     "status": "completed"
    },
    "tags": []
   },
   "outputs": [
    {
     "name": "stdout",
     "output_type": "stream",
     "text": [
      "Setup Complete\n"
     ]
    }
   ],
   "source": [
    "# Set up code checking\n",
    "import os\n",
    "if not os.path.exists(\"../input/train.csv\"):\n",
    "    os.symlink(\"../input/home-data-for-ml-course/train.csv\", \"../input/train.csv\")  \n",
    "    os.symlink(\"../input/home-data-for-ml-course/test.csv\", \"../input/test.csv\") \n",
    "from learntools.core import binder\n",
    "binder.bind(globals())\n",
    "from learntools.ml_intermediate.ex2 import *\n",
    "print(\"Setup Complete\")"
   ]
  },
  {
   "cell_type": "markdown",
   "id": "7b7ca36c",
   "metadata": {
    "papermill": {
     "duration": 0.03486,
     "end_time": "2022-04-06T14:04:48.021514",
     "exception": false,
     "start_time": "2022-04-06T14:04:47.986654",
     "status": "completed"
    },
    "tags": []
   },
   "source": [
    "In this exercise, you will work with data from the [Housing Prices Competition for Kaggle Learn Users](https://www.kaggle.com/c/home-data-for-ml-course). \n",
    "\n",
    "![Ames Housing dataset image](https://i.imgur.com/lTJVG4e.png)\n",
    "\n",
    "Run the next code cell without changes to load the training and validation sets in `X_train`, `X_valid`, `y_train`, and `y_valid`.  The test set is loaded in `X_test`."
   ]
  },
  {
   "cell_type": "code",
   "execution_count": 2,
   "id": "50e63583",
   "metadata": {
    "execution": {
     "iopub.execute_input": "2022-04-06T14:04:48.107691Z",
     "iopub.status.busy": "2022-04-06T14:04:48.106884Z",
     "iopub.status.idle": "2022-04-06T14:04:49.232084Z",
     "shell.execute_reply": "2022-04-06T14:04:49.231429Z",
     "shell.execute_reply.started": "2022-04-06T14:03:51.457667Z"
    },
    "papermill": {
     "duration": 1.175751,
     "end_time": "2022-04-06T14:04:49.232230",
     "exception": false,
     "start_time": "2022-04-06T14:04:48.056479",
     "status": "completed"
    },
    "tags": []
   },
   "outputs": [],
   "source": [
    "import pandas as pd\n",
    "from sklearn.model_selection import train_test_split\n",
    "\n",
    "# Read the data\n",
    "X_full = pd.read_csv('../input/train.csv', index_col='Id')\n",
    "X_test_full = pd.read_csv('../input/test.csv', index_col='Id')\n",
    "\n",
    "# Remove rows with missing target, separate target from predictors\n",
    "X_full.dropna(axis=0, subset=['SalePrice'], inplace=True)\n",
    "y = X_full.SalePrice\n",
    "X_full.drop(['SalePrice'], axis=1, inplace=True)\n",
    "\n",
    "# To keep things simple, we'll use only numerical predictors\n",
    "X = X_full.select_dtypes(exclude=['object'])\n",
    "X_test = X_test_full.select_dtypes(exclude=['object'])\n",
    "\n",
    "# Break off validation set from training data\n",
    "X_train, X_valid, y_train, y_valid = train_test_split(X, y, train_size=0.8, test_size=0.2,\n",
    "                                                      random_state=0)"
   ]
  },
  {
   "cell_type": "markdown",
   "id": "de1e0d2c",
   "metadata": {
    "papermill": {
     "duration": 0.036433,
     "end_time": "2022-04-06T14:04:49.303954",
     "exception": false,
     "start_time": "2022-04-06T14:04:49.267521",
     "status": "completed"
    },
    "tags": []
   },
   "source": [
    "Use the next code cell to print the first five rows of the data."
   ]
  },
  {
   "cell_type": "code",
   "execution_count": 3,
   "id": "fbcf78fa",
   "metadata": {
    "execution": {
     "iopub.execute_input": "2022-04-06T14:04:49.377278Z",
     "iopub.status.busy": "2022-04-06T14:04:49.376602Z",
     "iopub.status.idle": "2022-04-06T14:04:49.402441Z",
     "shell.execute_reply": "2022-04-06T14:04:49.402939Z",
     "shell.execute_reply.started": "2022-04-06T14:03:52.683775Z"
    },
    "papermill": {
     "duration": 0.064372,
     "end_time": "2022-04-06T14:04:49.403100",
     "exception": false,
     "start_time": "2022-04-06T14:04:49.338728",
     "status": "completed"
    },
    "tags": []
   },
   "outputs": [
    {
     "data": {
      "text/html": [
       "<div>\n",
       "<style scoped>\n",
       "    .dataframe tbody tr th:only-of-type {\n",
       "        vertical-align: middle;\n",
       "    }\n",
       "\n",
       "    .dataframe tbody tr th {\n",
       "        vertical-align: top;\n",
       "    }\n",
       "\n",
       "    .dataframe thead th {\n",
       "        text-align: right;\n",
       "    }\n",
       "</style>\n",
       "<table border=\"1\" class=\"dataframe\">\n",
       "  <thead>\n",
       "    <tr style=\"text-align: right;\">\n",
       "      <th></th>\n",
       "      <th>MSSubClass</th>\n",
       "      <th>LotFrontage</th>\n",
       "      <th>LotArea</th>\n",
       "      <th>OverallQual</th>\n",
       "      <th>OverallCond</th>\n",
       "      <th>YearBuilt</th>\n",
       "      <th>YearRemodAdd</th>\n",
       "      <th>MasVnrArea</th>\n",
       "      <th>BsmtFinSF1</th>\n",
       "      <th>BsmtFinSF2</th>\n",
       "      <th>...</th>\n",
       "      <th>GarageArea</th>\n",
       "      <th>WoodDeckSF</th>\n",
       "      <th>OpenPorchSF</th>\n",
       "      <th>EnclosedPorch</th>\n",
       "      <th>3SsnPorch</th>\n",
       "      <th>ScreenPorch</th>\n",
       "      <th>PoolArea</th>\n",
       "      <th>MiscVal</th>\n",
       "      <th>MoSold</th>\n",
       "      <th>YrSold</th>\n",
       "    </tr>\n",
       "    <tr>\n",
       "      <th>Id</th>\n",
       "      <th></th>\n",
       "      <th></th>\n",
       "      <th></th>\n",
       "      <th></th>\n",
       "      <th></th>\n",
       "      <th></th>\n",
       "      <th></th>\n",
       "      <th></th>\n",
       "      <th></th>\n",
       "      <th></th>\n",
       "      <th></th>\n",
       "      <th></th>\n",
       "      <th></th>\n",
       "      <th></th>\n",
       "      <th></th>\n",
       "      <th></th>\n",
       "      <th></th>\n",
       "      <th></th>\n",
       "      <th></th>\n",
       "      <th></th>\n",
       "      <th></th>\n",
       "    </tr>\n",
       "  </thead>\n",
       "  <tbody>\n",
       "    <tr>\n",
       "      <th>619</th>\n",
       "      <td>20</td>\n",
       "      <td>90.0</td>\n",
       "      <td>11694</td>\n",
       "      <td>9</td>\n",
       "      <td>5</td>\n",
       "      <td>2007</td>\n",
       "      <td>2007</td>\n",
       "      <td>452.0</td>\n",
       "      <td>48</td>\n",
       "      <td>0</td>\n",
       "      <td>...</td>\n",
       "      <td>774</td>\n",
       "      <td>0</td>\n",
       "      <td>108</td>\n",
       "      <td>0</td>\n",
       "      <td>0</td>\n",
       "      <td>260</td>\n",
       "      <td>0</td>\n",
       "      <td>0</td>\n",
       "      <td>7</td>\n",
       "      <td>2007</td>\n",
       "    </tr>\n",
       "    <tr>\n",
       "      <th>871</th>\n",
       "      <td>20</td>\n",
       "      <td>60.0</td>\n",
       "      <td>6600</td>\n",
       "      <td>5</td>\n",
       "      <td>5</td>\n",
       "      <td>1962</td>\n",
       "      <td>1962</td>\n",
       "      <td>0.0</td>\n",
       "      <td>0</td>\n",
       "      <td>0</td>\n",
       "      <td>...</td>\n",
       "      <td>308</td>\n",
       "      <td>0</td>\n",
       "      <td>0</td>\n",
       "      <td>0</td>\n",
       "      <td>0</td>\n",
       "      <td>0</td>\n",
       "      <td>0</td>\n",
       "      <td>0</td>\n",
       "      <td>8</td>\n",
       "      <td>2009</td>\n",
       "    </tr>\n",
       "    <tr>\n",
       "      <th>93</th>\n",
       "      <td>30</td>\n",
       "      <td>80.0</td>\n",
       "      <td>13360</td>\n",
       "      <td>5</td>\n",
       "      <td>7</td>\n",
       "      <td>1921</td>\n",
       "      <td>2006</td>\n",
       "      <td>0.0</td>\n",
       "      <td>713</td>\n",
       "      <td>0</td>\n",
       "      <td>...</td>\n",
       "      <td>432</td>\n",
       "      <td>0</td>\n",
       "      <td>0</td>\n",
       "      <td>44</td>\n",
       "      <td>0</td>\n",
       "      <td>0</td>\n",
       "      <td>0</td>\n",
       "      <td>0</td>\n",
       "      <td>8</td>\n",
       "      <td>2009</td>\n",
       "    </tr>\n",
       "    <tr>\n",
       "      <th>818</th>\n",
       "      <td>20</td>\n",
       "      <td>NaN</td>\n",
       "      <td>13265</td>\n",
       "      <td>8</td>\n",
       "      <td>5</td>\n",
       "      <td>2002</td>\n",
       "      <td>2002</td>\n",
       "      <td>148.0</td>\n",
       "      <td>1218</td>\n",
       "      <td>0</td>\n",
       "      <td>...</td>\n",
       "      <td>857</td>\n",
       "      <td>150</td>\n",
       "      <td>59</td>\n",
       "      <td>0</td>\n",
       "      <td>0</td>\n",
       "      <td>0</td>\n",
       "      <td>0</td>\n",
       "      <td>0</td>\n",
       "      <td>7</td>\n",
       "      <td>2008</td>\n",
       "    </tr>\n",
       "    <tr>\n",
       "      <th>303</th>\n",
       "      <td>20</td>\n",
       "      <td>118.0</td>\n",
       "      <td>13704</td>\n",
       "      <td>7</td>\n",
       "      <td>5</td>\n",
       "      <td>2001</td>\n",
       "      <td>2002</td>\n",
       "      <td>150.0</td>\n",
       "      <td>0</td>\n",
       "      <td>0</td>\n",
       "      <td>...</td>\n",
       "      <td>843</td>\n",
       "      <td>468</td>\n",
       "      <td>81</td>\n",
       "      <td>0</td>\n",
       "      <td>0</td>\n",
       "      <td>0</td>\n",
       "      <td>0</td>\n",
       "      <td>0</td>\n",
       "      <td>1</td>\n",
       "      <td>2006</td>\n",
       "    </tr>\n",
       "  </tbody>\n",
       "</table>\n",
       "<p>5 rows × 36 columns</p>\n",
       "</div>"
      ],
      "text/plain": [
       "     MSSubClass  LotFrontage  LotArea  OverallQual  OverallCond  YearBuilt  \\\n",
       "Id                                                                           \n",
       "619          20         90.0    11694            9            5       2007   \n",
       "871          20         60.0     6600            5            5       1962   \n",
       "93           30         80.0    13360            5            7       1921   \n",
       "818          20          NaN    13265            8            5       2002   \n",
       "303          20        118.0    13704            7            5       2001   \n",
       "\n",
       "     YearRemodAdd  MasVnrArea  BsmtFinSF1  BsmtFinSF2  ...  GarageArea  \\\n",
       "Id                                                     ...               \n",
       "619          2007       452.0          48           0  ...         774   \n",
       "871          1962         0.0           0           0  ...         308   \n",
       "93           2006         0.0         713           0  ...         432   \n",
       "818          2002       148.0        1218           0  ...         857   \n",
       "303          2002       150.0           0           0  ...         843   \n",
       "\n",
       "     WoodDeckSF  OpenPorchSF  EnclosedPorch  3SsnPorch  ScreenPorch  PoolArea  \\\n",
       "Id                                                                              \n",
       "619           0          108              0          0          260         0   \n",
       "871           0            0              0          0            0         0   \n",
       "93            0            0             44          0            0         0   \n",
       "818         150           59              0          0            0         0   \n",
       "303         468           81              0          0            0         0   \n",
       "\n",
       "     MiscVal  MoSold  YrSold  \n",
       "Id                            \n",
       "619        0       7    2007  \n",
       "871        0       8    2009  \n",
       "93         0       8    2009  \n",
       "818        0       7    2008  \n",
       "303        0       1    2006  \n",
       "\n",
       "[5 rows x 36 columns]"
      ]
     },
     "execution_count": 3,
     "metadata": {},
     "output_type": "execute_result"
    }
   ],
   "source": [
    "X_train.head()"
   ]
  },
  {
   "cell_type": "markdown",
   "id": "aca338ae",
   "metadata": {
    "papermill": {
     "duration": 0.035438,
     "end_time": "2022-04-06T14:04:49.474205",
     "exception": false,
     "start_time": "2022-04-06T14:04:49.438767",
     "status": "completed"
    },
    "tags": []
   },
   "source": [
    "You can already see a few missing values in the first several rows.  In the next step, you'll obtain a more comprehensive understanding of the missing values in the dataset.\n",
    "\n",
    "# Step 1: Preliminary investigation\n",
    "\n",
    "Run the code cell below without changes."
   ]
  },
  {
   "cell_type": "code",
   "execution_count": 4,
   "id": "4578f62a",
   "metadata": {
    "execution": {
     "iopub.execute_input": "2022-04-06T14:04:49.548644Z",
     "iopub.status.busy": "2022-04-06T14:04:49.548006Z",
     "iopub.status.idle": "2022-04-06T14:04:49.555116Z",
     "shell.execute_reply": "2022-04-06T14:04:49.555679Z",
     "shell.execute_reply.started": "2022-04-06T14:03:52.714615Z"
    },
    "papermill": {
     "duration": 0.046141,
     "end_time": "2022-04-06T14:04:49.555858",
     "exception": false,
     "start_time": "2022-04-06T14:04:49.509717",
     "status": "completed"
    },
    "tags": []
   },
   "outputs": [
    {
     "name": "stdout",
     "output_type": "stream",
     "text": [
      "(1168, 36)\n",
      "LotFrontage    212\n",
      "MasVnrArea       6\n",
      "GarageYrBlt     58\n",
      "dtype: int64\n"
     ]
    }
   ],
   "source": [
    "# Shape of training data (num_rows, num_columns)\n",
    "print(X_train.shape)\n",
    "\n",
    "# Number of missing values in each column of training data\n",
    "missing_val_count_by_column = (X_train.isnull().sum())\n",
    "print(missing_val_count_by_column[missing_val_count_by_column > 0])"
   ]
  },
  {
   "cell_type": "markdown",
   "id": "6e9aa16e",
   "metadata": {
    "papermill": {
     "duration": 0.035846,
     "end_time": "2022-04-06T14:04:49.629372",
     "exception": false,
     "start_time": "2022-04-06T14:04:49.593526",
     "status": "completed"
    },
    "tags": []
   },
   "source": [
    "### Part A\n",
    "\n",
    "Use the above output to answer the questions below."
   ]
  },
  {
   "cell_type": "code",
   "execution_count": 5,
   "id": "be2b3584",
   "metadata": {
    "execution": {
     "iopub.execute_input": "2022-04-06T14:04:49.704524Z",
     "iopub.status.busy": "2022-04-06T14:04:49.703898Z",
     "iopub.status.idle": "2022-04-06T14:04:49.712222Z",
     "shell.execute_reply": "2022-04-06T14:04:49.711737Z",
     "shell.execute_reply.started": "2022-04-06T14:03:52.726781Z"
    },
    "papermill": {
     "duration": 0.047111,
     "end_time": "2022-04-06T14:04:49.712355",
     "exception": false,
     "start_time": "2022-04-06T14:04:49.665244",
     "status": "completed"
    },
    "tags": []
   },
   "outputs": [
    {
     "data": {
      "application/javascript": [
       "parent.postMessage({\"jupyterEvent\": \"custom.exercise_interaction\", \"data\": {\"outcomeType\": 1, \"valueTowardsCompletion\": 1.0, \"interactionType\": 1, \"questionType\": 1, \"questionId\": \"1.1_InvestigateEquality\", \"learnToolsVersion\": \"0.3.4\", \"failureMessage\": \"\", \"exceptionClass\": \"\", \"trace\": \"\"}}, \"*\")"
      ],
      "text/plain": [
       "<IPython.core.display.Javascript object>"
      ]
     },
     "metadata": {},
     "output_type": "display_data"
    },
    {
     "data": {
      "text/markdown": [
       "<span style=\"color:#33cc33\">Correct</span>"
      ],
      "text/plain": [
       "Correct"
      ]
     },
     "metadata": {},
     "output_type": "display_data"
    }
   ],
   "source": [
    "# Fill in the line below: How many rows are in the training data?\n",
    "num_rows = 1168\n",
    "\n",
    "# Fill in the line below: How many columns in the training data\n",
    "# have missing values?\n",
    "num_cols_with_missing = 3\n",
    "\n",
    "# Fill in the line below: How many missing entries are contained in \n",
    "# all of the training data?\n",
    "tot_missing = 276\n",
    "\n",
    "# Check your answers\n",
    "step_1.a.check()"
   ]
  },
  {
   "cell_type": "code",
   "execution_count": 6,
   "id": "7a2fe355",
   "metadata": {
    "execution": {
     "iopub.execute_input": "2022-04-06T14:04:49.801780Z",
     "iopub.status.busy": "2022-04-06T14:04:49.800725Z",
     "iopub.status.idle": "2022-04-06T14:04:49.802837Z",
     "shell.execute_reply": "2022-04-06T14:04:49.803315Z",
     "shell.execute_reply.started": "2022-04-06T14:03:52.736896Z"
    },
    "papermill": {
     "duration": 0.053149,
     "end_time": "2022-04-06T14:04:49.803471",
     "exception": false,
     "start_time": "2022-04-06T14:04:49.750322",
     "status": "completed"
    },
    "tags": []
   },
   "outputs": [],
   "source": [
    "# Lines below will give you a hint or solution code\n",
    "#step_1.a.hint()\n",
    "#step_1.a.solution()"
   ]
  },
  {
   "cell_type": "markdown",
   "id": "23abf662",
   "metadata": {
    "papermill": {
     "duration": 0.037111,
     "end_time": "2022-04-06T14:04:49.877703",
     "exception": false,
     "start_time": "2022-04-06T14:04:49.840592",
     "status": "completed"
    },
    "tags": []
   },
   "source": [
    "### Part B\n",
    "Considering your answers above, what do you think is likely the best approach to dealing with the missing values?"
   ]
  },
  {
   "cell_type": "code",
   "execution_count": 7,
   "id": "6f16bd73",
   "metadata": {
    "execution": {
     "iopub.execute_input": "2022-04-06T14:04:49.957908Z",
     "iopub.status.busy": "2022-04-06T14:04:49.957021Z",
     "iopub.status.idle": "2022-04-06T14:04:49.963292Z",
     "shell.execute_reply": "2022-04-06T14:04:49.962690Z",
     "shell.execute_reply.started": "2022-04-06T14:03:52.745940Z"
    },
    "papermill": {
     "duration": 0.048658,
     "end_time": "2022-04-06T14:04:49.963424",
     "exception": false,
     "start_time": "2022-04-06T14:04:49.914766",
     "status": "completed"
    },
    "tags": []
   },
   "outputs": [
    {
     "data": {
      "application/javascript": [
       "parent.postMessage({\"jupyterEvent\": \"custom.exercise_interaction\", \"data\": {\"outcomeType\": 1, \"valueTowardsCompletion\": 1.0, \"interactionType\": 1, \"questionType\": 4, \"questionId\": \"1.2_InvestigateThought\", \"learnToolsVersion\": \"0.3.4\", \"failureMessage\": \"\", \"exceptionClass\": \"\", \"trace\": \"\"}}, \"*\")"
      ],
      "text/plain": [
       "<IPython.core.display.Javascript object>"
      ]
     },
     "metadata": {},
     "output_type": "display_data"
    },
    {
     "data": {
      "text/markdown": [
       "<span style=\"color:#33cc33\">Correct:</span> \n",
       "\n",
       "Since there are relatively few missing entries in the data (the column with the greatest percentage of missing values is missing less than 20% of its entries), we can expect that dropping columns is unlikely to yield good results.  This is because we'd be throwing away a lot of valuable data, and so imputation will likely perform better."
      ],
      "text/plain": [
       "Correct: \n",
       "\n",
       "Since there are relatively few missing entries in the data (the column with the greatest percentage of missing values is missing less than 20% of its entries), we can expect that dropping columns is unlikely to yield good results.  This is because we'd be throwing away a lot of valuable data, and so imputation will likely perform better."
      ]
     },
     "metadata": {},
     "output_type": "display_data"
    }
   ],
   "source": [
    "# Check your answer (Run this code cell to receive credit!)\n",
    "step_1.b.check()"
   ]
  },
  {
   "cell_type": "code",
   "execution_count": 8,
   "id": "ae769dc2",
   "metadata": {
    "execution": {
     "iopub.execute_input": "2022-04-06T14:04:50.044569Z",
     "iopub.status.busy": "2022-04-06T14:04:50.043961Z",
     "iopub.status.idle": "2022-04-06T14:04:50.045567Z",
     "shell.execute_reply": "2022-04-06T14:04:50.046142Z",
     "shell.execute_reply.started": "2022-04-06T14:03:52.763708Z"
    },
    "papermill": {
     "duration": 0.044396,
     "end_time": "2022-04-06T14:04:50.046303",
     "exception": false,
     "start_time": "2022-04-06T14:04:50.001907",
     "status": "completed"
    },
    "tags": []
   },
   "outputs": [],
   "source": [
    "#step_1.b.hint()"
   ]
  },
  {
   "cell_type": "markdown",
   "id": "6b74fec4",
   "metadata": {
    "papermill": {
     "duration": 0.047457,
     "end_time": "2022-04-06T14:04:50.141599",
     "exception": false,
     "start_time": "2022-04-06T14:04:50.094142",
     "status": "completed"
    },
    "tags": []
   },
   "source": [
    "To compare different approaches to dealing with missing values, you'll use the same `score_dataset()` function from the tutorial.  This function reports the [mean absolute error](https://en.wikipedia.org/wiki/Mean_absolute_error) (MAE) from a random forest model."
   ]
  },
  {
   "cell_type": "code",
   "execution_count": 9,
   "id": "c0dc30dd",
   "metadata": {
    "execution": {
     "iopub.execute_input": "2022-04-06T14:04:50.241013Z",
     "iopub.status.busy": "2022-04-06T14:04:50.240367Z",
     "iopub.status.idle": "2022-04-06T14:04:50.449875Z",
     "shell.execute_reply": "2022-04-06T14:04:50.449255Z",
     "shell.execute_reply.started": "2022-04-06T14:03:52.769457Z"
    },
    "papermill": {
     "duration": 0.260211,
     "end_time": "2022-04-06T14:04:50.450025",
     "exception": false,
     "start_time": "2022-04-06T14:04:50.189814",
     "status": "completed"
    },
    "tags": []
   },
   "outputs": [],
   "source": [
    "from sklearn.ensemble import RandomForestRegressor\n",
    "from sklearn.metrics import mean_absolute_error\n",
    "\n",
    "# Function for comparing different approaches\n",
    "def score_dataset(X_train, X_valid, y_train, y_valid):\n",
    "    model = RandomForestRegressor(n_estimators=100, random_state=0)\n",
    "    model.fit(X_train, y_train)\n",
    "    preds = model.predict(X_valid)\n",
    "    return mean_absolute_error(y_valid, preds)"
   ]
  },
  {
   "cell_type": "markdown",
   "id": "594c12ed",
   "metadata": {
    "papermill": {
     "duration": 0.038224,
     "end_time": "2022-04-06T14:04:50.526541",
     "exception": false,
     "start_time": "2022-04-06T14:04:50.488317",
     "status": "completed"
    },
    "tags": []
   },
   "source": [
    "# Step 2: Drop columns with missing values\n",
    "\n",
    "In this step, you'll preprocess the data in `X_train` and `X_valid` to remove columns with missing values.  Set the preprocessed DataFrames to `reduced_X_train` and `reduced_X_valid`, respectively.  "
   ]
  },
  {
   "cell_type": "code",
   "execution_count": 10,
   "id": "5abba242",
   "metadata": {
    "execution": {
     "iopub.execute_input": "2022-04-06T14:04:50.609010Z",
     "iopub.status.busy": "2022-04-06T14:04:50.607975Z",
     "iopub.status.idle": "2022-04-06T14:04:50.634474Z",
     "shell.execute_reply": "2022-04-06T14:04:50.635006Z",
     "shell.execute_reply.started": "2022-04-06T14:03:53.011933Z"
    },
    "papermill": {
     "duration": 0.068757,
     "end_time": "2022-04-06T14:04:50.635169",
     "exception": false,
     "start_time": "2022-04-06T14:04:50.566412",
     "status": "completed"
    },
    "tags": []
   },
   "outputs": [
    {
     "data": {
      "application/javascript": [
       "parent.postMessage({\"jupyterEvent\": \"custom.exercise_interaction\", \"data\": {\"outcomeType\": 1, \"valueTowardsCompletion\": 1.0, \"interactionType\": 1, \"questionType\": 2, \"questionId\": \"2_DropMissing\", \"learnToolsVersion\": \"0.3.4\", \"failureMessage\": \"\", \"exceptionClass\": \"\", \"trace\": \"\"}}, \"*\")"
      ],
      "text/plain": [
       "<IPython.core.display.Javascript object>"
      ]
     },
     "metadata": {},
     "output_type": "display_data"
    },
    {
     "data": {
      "text/markdown": [
       "<span style=\"color:#33cc33\">Correct</span>"
      ],
      "text/plain": [
       "Correct"
      ]
     },
     "metadata": {},
     "output_type": "display_data"
    }
   ],
   "source": [
    "# Fill in the line below: get names of columns with missing values\n",
    "____ # Your code here\n",
    "cols_with_missing = [col for col in X_train.columns\n",
    "                     if X_train[col].isnull().any()]\n",
    "\n",
    "# Fill in the lines below: drop columns in training and validation data\n",
    "reduced_X_train = X_train.drop(cols_with_missing, axis=1)\n",
    "reduced_X_valid = X_valid.drop(cols_with_missing, axis=1)\n",
    "# Check your answers\n",
    "step_2.check()"
   ]
  },
  {
   "cell_type": "code",
   "execution_count": 11,
   "id": "1e59f969",
   "metadata": {
    "execution": {
     "iopub.execute_input": "2022-04-06T14:04:50.717931Z",
     "iopub.status.busy": "2022-04-06T14:04:50.716988Z",
     "iopub.status.idle": "2022-04-06T14:04:50.720325Z",
     "shell.execute_reply": "2022-04-06T14:04:50.720826Z",
     "shell.execute_reply.started": "2022-04-06T14:03:53.056348Z"
    },
    "papermill": {
     "duration": 0.046584,
     "end_time": "2022-04-06T14:04:50.721013",
     "exception": false,
     "start_time": "2022-04-06T14:04:50.674429",
     "status": "completed"
    },
    "tags": []
   },
   "outputs": [],
   "source": [
    "# Lines below will give you a hint or solution code\n",
    "#step_2.hint()\n",
    "#step_2.solution()"
   ]
  },
  {
   "cell_type": "markdown",
   "id": "4b3186dc",
   "metadata": {
    "papermill": {
     "duration": 0.039334,
     "end_time": "2022-04-06T14:04:50.800635",
     "exception": false,
     "start_time": "2022-04-06T14:04:50.761301",
     "status": "completed"
    },
    "tags": []
   },
   "source": [
    "Run the next code cell without changes to obtain the MAE for this approach."
   ]
  },
  {
   "cell_type": "code",
   "execution_count": 12,
   "id": "837b5c16",
   "metadata": {
    "execution": {
     "iopub.execute_input": "2022-04-06T14:04:50.883068Z",
     "iopub.status.busy": "2022-04-06T14:04:50.882415Z",
     "iopub.status.idle": "2022-04-06T14:04:51.969831Z",
     "shell.execute_reply": "2022-04-06T14:04:51.970313Z",
     "shell.execute_reply.started": "2022-04-06T14:03:53.061990Z"
    },
    "papermill": {
     "duration": 1.130148,
     "end_time": "2022-04-06T14:04:51.970498",
     "exception": false,
     "start_time": "2022-04-06T14:04:50.840350",
     "status": "completed"
    },
    "tags": []
   },
   "outputs": [
    {
     "name": "stdout",
     "output_type": "stream",
     "text": [
      "MAE (Drop columns with missing values):\n",
      "17837.82570776256\n"
     ]
    }
   ],
   "source": [
    "print(\"MAE (Drop columns with missing values):\")\n",
    "print(score_dataset(reduced_X_train, reduced_X_valid, y_train, y_valid))"
   ]
  },
  {
   "cell_type": "markdown",
   "id": "0ea415dc",
   "metadata": {
    "papermill": {
     "duration": 0.040378,
     "end_time": "2022-04-06T14:04:52.051644",
     "exception": false,
     "start_time": "2022-04-06T14:04:52.011266",
     "status": "completed"
    },
    "tags": []
   },
   "source": [
    "# Step 3: Imputation\n",
    "\n",
    "### Part A\n",
    "\n",
    "Use the next code cell to impute missing values with the mean value along each column.  Set the preprocessed DataFrames to `imputed_X_train` and `imputed_X_valid`.  Make sure that the column names match those in `X_train` and `X_valid`."
   ]
  },
  {
   "cell_type": "code",
   "execution_count": 13,
   "id": "04658481",
   "metadata": {
    "execution": {
     "iopub.execute_input": "2022-04-06T14:04:52.139770Z",
     "iopub.status.busy": "2022-04-06T14:04:52.138862Z",
     "iopub.status.idle": "2022-04-06T14:04:52.166856Z",
     "shell.execute_reply": "2022-04-06T14:04:52.167316Z",
     "shell.execute_reply.started": "2022-04-06T14:03:54.175430Z"
    },
    "papermill": {
     "duration": 0.074827,
     "end_time": "2022-04-06T14:04:52.167481",
     "exception": false,
     "start_time": "2022-04-06T14:04:52.092654",
     "status": "completed"
    },
    "tags": []
   },
   "outputs": [
    {
     "data": {
      "application/javascript": [
       "parent.postMessage({\"jupyterEvent\": \"custom.exercise_interaction\", \"data\": {\"outcomeType\": 1, \"valueTowardsCompletion\": 1.0, \"interactionType\": 1, \"questionType\": 2, \"questionId\": \"3.1_ImputeCode\", \"learnToolsVersion\": \"0.3.4\", \"failureMessage\": \"\", \"exceptionClass\": \"\", \"trace\": \"\"}}, \"*\")"
      ],
      "text/plain": [
       "<IPython.core.display.Javascript object>"
      ]
     },
     "metadata": {},
     "output_type": "display_data"
    },
    {
     "data": {
      "text/markdown": [
       "<span style=\"color:#33cc33\">Correct</span>"
      ],
      "text/plain": [
       "Correct"
      ]
     },
     "metadata": {},
     "output_type": "display_data"
    }
   ],
   "source": [
    "from sklearn.impute import SimpleImputer\n",
    "\n",
    "# Fill in the lines below: imputation\n",
    "____ # Your code here\n",
    "my_imputer = SimpleImputer()\n",
    "imputed_X_train = pd.DataFrame(my_imputer.fit_transform(X_train))\n",
    "imputed_X_valid = pd.DataFrame(my_imputer.transform(X_valid))\n",
    "\n",
    "# Fill in the lines below: imputation removed column names; put them back\n",
    "imputed_X_train.columns = X_train.columns\n",
    "imputed_X_valid.columns = X_valid.columns\n",
    "\n",
    "# Check your answers\n",
    "step_3.a.check()"
   ]
  },
  {
   "cell_type": "code",
   "execution_count": 14,
   "id": "dca9f2ff",
   "metadata": {
    "execution": {
     "iopub.execute_input": "2022-04-06T14:04:52.253919Z",
     "iopub.status.busy": "2022-04-06T14:04:52.253307Z",
     "iopub.status.idle": "2022-04-06T14:04:52.256042Z",
     "shell.execute_reply": "2022-04-06T14:04:52.256616Z",
     "shell.execute_reply.started": "2022-04-06T14:03:54.216200Z"
    },
    "papermill": {
     "duration": 0.047469,
     "end_time": "2022-04-06T14:04:52.256788",
     "exception": false,
     "start_time": "2022-04-06T14:04:52.209319",
     "status": "completed"
    },
    "tags": []
   },
   "outputs": [],
   "source": [
    "# Lines below will give you a hint or solution code\n",
    "#step_3.a.hint()\n",
    "#step_3.a.solution()"
   ]
  },
  {
   "cell_type": "markdown",
   "id": "ce10f3d6",
   "metadata": {
    "papermill": {
     "duration": 0.04123,
     "end_time": "2022-04-06T14:04:52.339471",
     "exception": false,
     "start_time": "2022-04-06T14:04:52.298241",
     "status": "completed"
    },
    "tags": []
   },
   "source": [
    "Run the next code cell without changes to obtain the MAE for this approach."
   ]
  },
  {
   "cell_type": "code",
   "execution_count": 15,
   "id": "79203a8f",
   "metadata": {
    "execution": {
     "iopub.execute_input": "2022-04-06T14:04:52.429351Z",
     "iopub.status.busy": "2022-04-06T14:04:52.428739Z",
     "iopub.status.idle": "2022-04-06T14:04:53.621090Z",
     "shell.execute_reply": "2022-04-06T14:04:53.621565Z",
     "shell.execute_reply.started": "2022-04-06T14:03:54.221596Z"
    },
    "papermill": {
     "duration": 1.240838,
     "end_time": "2022-04-06T14:04:53.621769",
     "exception": false,
     "start_time": "2022-04-06T14:04:52.380931",
     "status": "completed"
    },
    "tags": []
   },
   "outputs": [
    {
     "name": "stdout",
     "output_type": "stream",
     "text": [
      "MAE (Imputation):\n",
      "18062.894611872147\n"
     ]
    }
   ],
   "source": [
    "print(\"MAE (Imputation):\")\n",
    "print(score_dataset(imputed_X_train, imputed_X_valid, y_train, y_valid))"
   ]
  },
  {
   "cell_type": "markdown",
   "id": "7a5b3250",
   "metadata": {
    "papermill": {
     "duration": 0.041928,
     "end_time": "2022-04-06T14:04:53.705999",
     "exception": false,
     "start_time": "2022-04-06T14:04:53.664071",
     "status": "completed"
    },
    "tags": []
   },
   "source": [
    "### Part B\n",
    "\n",
    "Compare the MAE from each approach.  Does anything surprise you about the results?  Why do you think one approach performed better than the other?"
   ]
  },
  {
   "cell_type": "code",
   "execution_count": 16,
   "id": "dd545f25",
   "metadata": {
    "execution": {
     "iopub.execute_input": "2022-04-06T14:04:53.795210Z",
     "iopub.status.busy": "2022-04-06T14:04:53.794201Z",
     "iopub.status.idle": "2022-04-06T14:04:53.801389Z",
     "shell.execute_reply": "2022-04-06T14:04:53.801858Z",
     "shell.execute_reply.started": "2022-04-06T14:03:55.433797Z"
    },
    "papermill": {
     "duration": 0.05387,
     "end_time": "2022-04-06T14:04:53.802029",
     "exception": false,
     "start_time": "2022-04-06T14:04:53.748159",
     "status": "completed"
    },
    "tags": []
   },
   "outputs": [
    {
     "data": {
      "application/javascript": [
       "parent.postMessage({\"jupyterEvent\": \"custom.exercise_interaction\", \"data\": {\"outcomeType\": 1, \"valueTowardsCompletion\": 1.0, \"interactionType\": 1, \"questionType\": 4, \"questionId\": \"3.2_ImputeThought\", \"learnToolsVersion\": \"0.3.4\", \"failureMessage\": \"\", \"exceptionClass\": \"\", \"trace\": \"\"}}, \"*\")"
      ],
      "text/plain": [
       "<IPython.core.display.Javascript object>"
      ]
     },
     "metadata": {},
     "output_type": "display_data"
    },
    {
     "data": {
      "text/markdown": [
       "<span style=\"color:#33cc33\">Correct:</span> \n",
       "\n",
       "Given that thre are so few missing values in the dataset, we'd expect imputation to perform better than dropping columns entirely.  However, we see that dropping columns performs slightly better!  While this can probably partially be attributed to noise in the dataset, another potential explanation is that the imputation method is not a great match to this dataset.  That is, maybe instead of filling in the mean value, it makes more sense to set every missing value to a value of 0, to fill in the most frequently encountered value, or to use some other method.  For instance, consider the `GarageYrBlt` column (which indicates the year that the garage was built).  It's likely that in some cases, a missing value could indicate a house that does not have a garage.  Does it make more sense to fill in the median value along each column in this case?  Or could we get better results by filling in the minimum value along each column?  It's not quite clear what's best in this case, but perhaps we can rule out some options immediately - for instance, setting missing values in this column to 0 is likely to yield horrible results!"
      ],
      "text/plain": [
       "Correct: \n",
       "\n",
       "Given that thre are so few missing values in the dataset, we'd expect imputation to perform better than dropping columns entirely.  However, we see that dropping columns performs slightly better!  While this can probably partially be attributed to noise in the dataset, another potential explanation is that the imputation method is not a great match to this dataset.  That is, maybe instead of filling in the mean value, it makes more sense to set every missing value to a value of 0, to fill in the most frequently encountered value, or to use some other method.  For instance, consider the `GarageYrBlt` column (which indicates the year that the garage was built).  It's likely that in some cases, a missing value could indicate a house that does not have a garage.  Does it make more sense to fill in the median value along each column in this case?  Or could we get better results by filling in the minimum value along each column?  It's not quite clear what's best in this case, but perhaps we can rule out some options immediately - for instance, setting missing values in this column to 0 is likely to yield horrible results!"
      ]
     },
     "metadata": {},
     "output_type": "display_data"
    }
   ],
   "source": [
    "# Check your answer (Run this code cell to receive credit!)\n",
    "step_3.b.check()"
   ]
  },
  {
   "cell_type": "code",
   "execution_count": 17,
   "id": "cd17ad93",
   "metadata": {
    "execution": {
     "iopub.execute_input": "2022-04-06T14:04:53.894823Z",
     "iopub.status.busy": "2022-04-06T14:04:53.893988Z",
     "iopub.status.idle": "2022-04-06T14:04:53.896790Z",
     "shell.execute_reply": "2022-04-06T14:04:53.896250Z",
     "shell.execute_reply.started": "2022-04-06T14:03:55.449629Z"
    },
    "papermill": {
     "duration": 0.051273,
     "end_time": "2022-04-06T14:04:53.896944",
     "exception": false,
     "start_time": "2022-04-06T14:04:53.845671",
     "status": "completed"
    },
    "tags": []
   },
   "outputs": [],
   "source": [
    "#step_3.b.hint()"
   ]
  },
  {
   "cell_type": "markdown",
   "id": "6cf43f77",
   "metadata": {
    "papermill": {
     "duration": 0.043154,
     "end_time": "2022-04-06T14:04:53.983699",
     "exception": false,
     "start_time": "2022-04-06T14:04:53.940545",
     "status": "completed"
    },
    "tags": []
   },
   "source": [
    "# Step 4: Generate test predictions\n",
    "\n",
    "In this final step, you'll use any approach of your choosing to deal with missing values.  Once you've preprocessed the training and validation features, you'll train and evaluate a random forest model.  Then, you'll preprocess the test data before generating predictions that can be submitted to the competition!\n",
    "\n",
    "### Part A\n",
    "\n",
    "Use the next code cell to preprocess the training and validation data.  Set the preprocessed DataFrames to `final_X_train` and `final_X_valid`.  **You can use any approach of your choosing here!**  in order for this step to be marked as correct, you need only ensure:\n",
    "- the preprocessed DataFrames have the same number of columns,\n",
    "- the preprocessed DataFrames have no missing values, \n",
    "- `final_X_train` and `y_train` have the same number of rows, and\n",
    "- `final_X_valid` and `y_valid` have the same number of rows."
   ]
  },
  {
   "cell_type": "code",
   "execution_count": 18,
   "id": "91c29038",
   "metadata": {
    "execution": {
     "iopub.execute_input": "2022-04-06T14:04:54.075995Z",
     "iopub.status.busy": "2022-04-06T14:04:54.075331Z",
     "iopub.status.idle": "2022-04-06T14:04:54.102148Z",
     "shell.execute_reply": "2022-04-06T14:04:54.102754Z",
     "shell.execute_reply.started": "2022-04-06T14:03:55.457546Z"
    },
    "papermill": {
     "duration": 0.074568,
     "end_time": "2022-04-06T14:04:54.102930",
     "exception": false,
     "start_time": "2022-04-06T14:04:54.028362",
     "status": "completed"
    },
    "tags": []
   },
   "outputs": [
    {
     "data": {
      "application/javascript": [
       "parent.postMessage({\"jupyterEvent\": \"custom.exercise_interaction\", \"data\": {\"outcomeType\": 1, \"valueTowardsCompletion\": 1.0, \"interactionType\": 1, \"questionType\": 2, \"questionId\": \"4.1_PredsCodeA\", \"learnToolsVersion\": \"0.3.4\", \"failureMessage\": \"\", \"exceptionClass\": \"\", \"trace\": \"\"}}, \"*\")"
      ],
      "text/plain": [
       "<IPython.core.display.Javascript object>"
      ]
     },
     "metadata": {},
     "output_type": "display_data"
    },
    {
     "data": {
      "text/markdown": [
       "<span style=\"color:#33cc33\">Correct</span>"
      ],
      "text/plain": [
       "Correct"
      ]
     },
     "metadata": {},
     "output_type": "display_data"
    }
   ],
   "source": [
    "# Preprocessed training and validation features\n",
    "from sklearn.impute import SimpleImputer\n",
    "\n",
    "# Imputation\n",
    "my_imputer = SimpleImputer()\n",
    "final_X_train = pd.DataFrame(my_imputer.fit_transform(X_train))\n",
    "final_X_valid = pd.DataFrame(my_imputer.transform(X_valid))\n",
    "\n",
    "# Imputation removed column names; put them back\n",
    "final_X_train.columns = X_train.columns\n",
    "final_X_valid.columns = X_valid.columns\n",
    "\n",
    "# Check your answers\n",
    "step_4.a.check()"
   ]
  },
  {
   "cell_type": "code",
   "execution_count": 19,
   "id": "b2f84b6c",
   "metadata": {
    "execution": {
     "iopub.execute_input": "2022-04-06T14:04:54.196046Z",
     "iopub.status.busy": "2022-04-06T14:04:54.195390Z",
     "iopub.status.idle": "2022-04-06T14:04:54.198236Z",
     "shell.execute_reply": "2022-04-06T14:04:54.198842Z",
     "shell.execute_reply.started": "2022-04-06T14:03:55.496892Z"
    },
    "papermill": {
     "duration": 0.051474,
     "end_time": "2022-04-06T14:04:54.199017",
     "exception": false,
     "start_time": "2022-04-06T14:04:54.147543",
     "status": "completed"
    },
    "tags": []
   },
   "outputs": [],
   "source": [
    "# Lines below will give you a hint or solution code\n",
    "#step_4.a.hint()\n",
    "#step_4.a.solution()"
   ]
  },
  {
   "cell_type": "markdown",
   "id": "3881be98",
   "metadata": {
    "papermill": {
     "duration": 0.044482,
     "end_time": "2022-04-06T14:04:54.289282",
     "exception": false,
     "start_time": "2022-04-06T14:04:54.244800",
     "status": "completed"
    },
    "tags": []
   },
   "source": [
    "Run the next code cell to train and evaluate a random forest model.  (*Note that we don't use the `score_dataset()` function above, because we will soon use the trained model to generate test predictions!*)"
   ]
  },
  {
   "cell_type": "code",
   "execution_count": 20,
   "id": "b5d87c08",
   "metadata": {
    "execution": {
     "iopub.execute_input": "2022-04-06T14:04:54.382317Z",
     "iopub.status.busy": "2022-04-06T14:04:54.381690Z",
     "iopub.status.idle": "2022-04-06T14:04:55.575219Z",
     "shell.execute_reply": "2022-04-06T14:04:55.574516Z",
     "shell.execute_reply.started": "2022-04-06T14:03:55.503292Z"
    },
    "papermill": {
     "duration": 1.240647,
     "end_time": "2022-04-06T14:04:55.575363",
     "exception": false,
     "start_time": "2022-04-06T14:04:54.334716",
     "status": "completed"
    },
    "tags": []
   },
   "outputs": [
    {
     "name": "stdout",
     "output_type": "stream",
     "text": [
      "MAE (Your approach):\n",
      "18062.894611872147\n"
     ]
    }
   ],
   "source": [
    "# Define and fit model\n",
    "model = RandomForestRegressor(n_estimators=100, random_state=0)\n",
    "model.fit(final_X_train, y_train)\n",
    "\n",
    "# Get validation predictions and MAE\n",
    "preds_valid = model.predict(final_X_valid)\n",
    "print(\"MAE (Your approach):\")\n",
    "print(mean_absolute_error(y_valid, preds_valid))"
   ]
  },
  {
   "cell_type": "markdown",
   "id": "4f31c983",
   "metadata": {
    "papermill": {
     "duration": 0.04466,
     "end_time": "2022-04-06T14:04:55.666441",
     "exception": false,
     "start_time": "2022-04-06T14:04:55.621781",
     "status": "completed"
    },
    "tags": []
   },
   "source": [
    "### Part B\n",
    "\n",
    "Use the next code cell to preprocess your test data.  Make sure that you use a method that agrees with how you preprocessed the training and validation data, and set the preprocessed test features to `final_X_test`.\n",
    "\n",
    "Then, use the preprocessed test features and the trained model to generate test predictions in `preds_test`.\n",
    "\n",
    "In order for this step to be marked correct, you need only ensure:\n",
    "- the preprocessed test DataFrame has no missing values, and\n",
    "- `final_X_test` has the same number of rows as `X_test`."
   ]
  },
  {
   "cell_type": "code",
   "execution_count": 21,
   "id": "42403437",
   "metadata": {
    "execution": {
     "iopub.execute_input": "2022-04-06T14:04:55.760382Z",
     "iopub.status.busy": "2022-04-06T14:04:55.759386Z",
     "iopub.status.idle": "2022-04-06T14:04:55.813731Z",
     "shell.execute_reply": "2022-04-06T14:04:55.814235Z",
     "shell.execute_reply.started": "2022-04-06T14:03:56.728474Z"
    },
    "papermill": {
     "duration": 0.102818,
     "end_time": "2022-04-06T14:04:55.814398",
     "exception": false,
     "start_time": "2022-04-06T14:04:55.711580",
     "status": "completed"
    },
    "tags": []
   },
   "outputs": [
    {
     "data": {
      "application/javascript": [
       "parent.postMessage({\"jupyterEvent\": \"custom.exercise_interaction\", \"data\": {\"outcomeType\": 1, \"valueTowardsCompletion\": 1.0, \"interactionType\": 1, \"questionType\": 2, \"questionId\": \"4.2_PredsCodeB\", \"learnToolsVersion\": \"0.3.4\", \"failureMessage\": \"\", \"exceptionClass\": \"\", \"trace\": \"\"}}, \"*\")"
      ],
      "text/plain": [
       "<IPython.core.display.Javascript object>"
      ]
     },
     "metadata": {},
     "output_type": "display_data"
    },
    {
     "data": {
      "text/markdown": [
       "<span style=\"color:#33cc33\">Correct</span>"
      ],
      "text/plain": [
       "Correct"
      ]
     },
     "metadata": {},
     "output_type": "display_data"
    }
   ],
   "source": [
    "# Fill in the line below: preprocess test data\n",
    "from sklearn.impute import SimpleImputer\n",
    "\n",
    "# Imputation\n",
    "my_imputer = SimpleImputer()\n",
    "final_X_test = pd.DataFrame(my_imputer.fit_transform(X_test))\n",
    "\n",
    "\n",
    "# Imputation removed column names; put them back\n",
    "final_X_test.columns = X_test.columns\n",
    "\n",
    "\n",
    "# Fill in the line below: get test predictions\n",
    "preds_test = model.predict(final_X_test)\n",
    "# Check your answers\n",
    "step_4.b.check()"
   ]
  },
  {
   "cell_type": "code",
   "execution_count": 22,
   "id": "2ffe872b",
   "metadata": {
    "execution": {
     "iopub.execute_input": "2022-04-06T14:04:55.911244Z",
     "iopub.status.busy": "2022-04-06T14:04:55.910275Z",
     "iopub.status.idle": "2022-04-06T14:04:55.917847Z",
     "shell.execute_reply": "2022-04-06T14:04:55.917305Z",
     "shell.execute_reply.started": "2022-04-06T14:03:56.786106Z"
    },
    "papermill": {
     "duration": 0.057142,
     "end_time": "2022-04-06T14:04:55.917983",
     "exception": false,
     "start_time": "2022-04-06T14:04:55.860841",
     "status": "completed"
    },
    "tags": []
   },
   "outputs": [
    {
     "data": {
      "application/javascript": [
       "parent.postMessage({\"jupyterEvent\": \"custom.exercise_interaction\", \"data\": {\"interactionType\": 2, \"questionType\": 2, \"questionId\": \"4.2_PredsCodeB\", \"learnToolsVersion\": \"0.3.4\", \"valueTowardsCompletion\": 0.0, \"failureMessage\": \"\", \"exceptionClass\": \"\", \"trace\": \"\", \"outcomeType\": 4}}, \"*\")"
      ],
      "text/plain": [
       "<IPython.core.display.Javascript object>"
      ]
     },
     "metadata": {},
     "output_type": "display_data"
    },
    {
     "data": {
      "text/markdown": [
       "<span style=\"color:#3366cc\">Hint:</span> After preprocessing the test data, you can get the model's predictions by using `model.predict()`."
      ],
      "text/plain": [
       "Hint: After preprocessing the test data, you can get the model's predictions by using `model.predict()`."
      ]
     },
     "metadata": {},
     "output_type": "display_data"
    }
   ],
   "source": [
    "# Lines below will give you a hint or solution code\n",
    "step_4.b.hint()\n",
    "#step_4.b.solution()"
   ]
  },
  {
   "cell_type": "markdown",
   "id": "876a04b6",
   "metadata": {
    "papermill": {
     "duration": 0.047794,
     "end_time": "2022-04-06T14:04:56.013353",
     "exception": false,
     "start_time": "2022-04-06T14:04:55.965559",
     "status": "completed"
    },
    "tags": []
   },
   "source": [
    "Run the next code cell without changes to save your results to a CSV file that can be submitted directly to the competition."
   ]
  },
  {
   "cell_type": "code",
   "execution_count": 23,
   "id": "25299fd2",
   "metadata": {
    "execution": {
     "iopub.execute_input": "2022-04-06T14:04:56.115875Z",
     "iopub.status.busy": "2022-04-06T14:04:56.114824Z",
     "iopub.status.idle": "2022-04-06T14:04:56.124567Z",
     "shell.execute_reply": "2022-04-06T14:04:56.124064Z",
     "shell.execute_reply.started": "2022-04-06T14:03:56.795286Z"
    },
    "papermill": {
     "duration": 0.063771,
     "end_time": "2022-04-06T14:04:56.124747",
     "exception": false,
     "start_time": "2022-04-06T14:04:56.060976",
     "status": "completed"
    },
    "tags": []
   },
   "outputs": [],
   "source": [
    "# Save test predictions to file\n",
    "output = pd.DataFrame({'Id': X_test.index,\n",
    "                       'SalePrice': preds_test})\n",
    "output.to_csv('submission.csv', index=False)"
   ]
  },
  {
   "cell_type": "markdown",
   "id": "84746dc9",
   "metadata": {
    "papermill": {
     "duration": 0.047992,
     "end_time": "2022-04-06T14:04:56.220806",
     "exception": false,
     "start_time": "2022-04-06T14:04:56.172814",
     "status": "completed"
    },
    "tags": []
   },
   "source": [
    "# Submit your results\n",
    "\n",
    "Once you have successfully completed Step 4, you're ready to submit your results to the leaderboard!  (_You also learned how to do this in the previous exercise.  If you need a reminder of how to do this, please use the instructions below._)  \n",
    "\n",
    "First, you'll need to join the competition if you haven't already.  So open a new window by clicking on [this link](https://www.kaggle.com/c/home-data-for-ml-course).  Then click on the **Join Competition** button.\n",
    "\n",
    "![join competition image](https://i.imgur.com/wLmFtH3.png)\n",
    "\n",
    "Next, follow the instructions below:\n",
    "1. Begin by clicking on the **Save Version** button in the top right corner of the window.  This will generate a pop-up window.  \n",
    "2. Ensure that the **Save and Run All** option is selected, and then click on the **Save** button.\n",
    "3. This generates a window in the bottom left corner of the notebook.  After it has finished running, click on the number to the right of the **Save Version** button.  This pulls up a list of versions on the right of the screen.  Click on the ellipsis **(...)** to the right of the most recent version, and select **Open in Viewer**.  This brings you into view mode of the same page. You will need to scroll down to get back to these instructions.\n",
    "4. Click on the **Output** tab on the right of the screen.  Then, click on the file you would like to submit, and click on the **Submit** button to submit your results to the leaderboard.\n",
    "\n",
    "You have now successfully submitted to the competition!\n",
    "\n",
    "If you want to keep working to improve your performance, select the **Edit** button in the top right of the screen. Then you can change your code and repeat the process. There's a lot of room to improve, and you will climb up the leaderboard as you work.\n",
    "\n",
    "\n",
    "# Keep going\n",
    "\n",
    "Move on to learn what **[categorical variables](https://www.kaggle.com/alexisbcook/categorical-variables)** are, along with how to incorporate them into your machine learning models.  Categorical variables are very common in real-world data, but you'll get an error if you try to plug them into your models without processing them first!"
   ]
  },
  {
   "cell_type": "markdown",
   "id": "6d9e2719",
   "metadata": {
    "papermill": {
     "duration": 0.047932,
     "end_time": "2022-04-06T14:04:56.316272",
     "exception": false,
     "start_time": "2022-04-06T14:04:56.268340",
     "status": "completed"
    },
    "tags": []
   },
   "source": [
    "---\n",
    "\n",
    "\n",
    "\n",
    "\n",
    "*Have questions or comments? Visit the [course discussion forum](https://www.kaggle.com/learn/intermediate-machine-learning/discussion) to chat with other learners.*"
   ]
  }
 ],
 "metadata": {
  "kernelspec": {
   "display_name": "Python 3",
   "language": "python",
   "name": "python3"
  },
  "language_info": {
   "codemirror_mode": {
    "name": "ipython",
    "version": 3
   },
   "file_extension": ".py",
   "mimetype": "text/x-python",
   "name": "python",
   "nbconvert_exporter": "python",
   "pygments_lexer": "ipython3",
   "version": "3.7.12"
  },
  "papermill": {
   "default_parameters": {},
   "duration": 19.061563,
   "end_time": "2022-04-06T14:04:57.072861",
   "environment_variables": {},
   "exception": null,
   "input_path": "__notebook__.ipynb",
   "output_path": "__notebook__.ipynb",
   "parameters": {},
   "start_time": "2022-04-06T14:04:38.011298",
   "version": "2.3.3"
  }
 },
 "nbformat": 4,
 "nbformat_minor": 5
}
