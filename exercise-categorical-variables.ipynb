{
 "cells": [
  {
   "cell_type": "markdown",
   "id": "d66ebb8e",
   "metadata": {
    "papermill": {
     "duration": 0.034648,
     "end_time": "2022-04-06T14:05:57.429055",
     "exception": false,
     "start_time": "2022-04-06T14:05:57.394407",
     "status": "completed"
    },
    "tags": []
   },
   "source": [
    "**This notebook is an exercise in the [Intermediate Machine Learning](https://www.kaggle.com/learn/intermediate-machine-learning) course.  You can reference the tutorial at [this link](https://www.kaggle.com/alexisbcook/categorical-variables).**\n",
    "\n",
    "---\n"
   ]
  },
  {
   "cell_type": "markdown",
   "id": "29853b58",
   "metadata": {
    "papermill": {
     "duration": 0.034121,
     "end_time": "2022-04-06T14:05:57.498628",
     "exception": false,
     "start_time": "2022-04-06T14:05:57.464507",
     "status": "completed"
    },
    "tags": []
   },
   "source": [
    "By encoding **categorical variables**, you'll obtain your best results thus far!\n",
    "\n",
    "# Setup\n",
    "\n",
    "The questions below will give you feedback on your work. Run the following cell to set up the feedback system."
   ]
  },
  {
   "cell_type": "code",
   "execution_count": 1,
   "id": "65fbd470",
   "metadata": {
    "execution": {
     "iopub.execute_input": "2022-04-06T14:05:57.575516Z",
     "iopub.status.busy": "2022-04-06T14:05:57.574879Z",
     "iopub.status.idle": "2022-04-06T14:05:57.614376Z",
     "shell.execute_reply": "2022-04-06T14:05:57.614878Z",
     "shell.execute_reply.started": "2022-04-06T13:42:36.743615Z"
    },
    "papermill": {
     "duration": 0.08244,
     "end_time": "2022-04-06T14:05:57.615176",
     "exception": false,
     "start_time": "2022-04-06T14:05:57.532736",
     "status": "completed"
    },
    "tags": []
   },
   "outputs": [
    {
     "name": "stdout",
     "output_type": "stream",
     "text": [
      "Setup Complete\n"
     ]
    }
   ],
   "source": [
    "# Set up code checking\n",
    "import os\n",
    "if not os.path.exists(\"../input/train.csv\"):\n",
    "    os.symlink(\"../input/home-data-for-ml-course/train.csv\", \"../input/train.csv\")  \n",
    "    os.symlink(\"../input/home-data-for-ml-course/test.csv\", \"../input/test.csv\") \n",
    "from learntools.core import binder\n",
    "binder.bind(globals())\n",
    "from learntools.ml_intermediate.ex3 import *\n",
    "print(\"Setup Complete\")"
   ]
  },
  {
   "cell_type": "markdown",
   "id": "7b947b5b",
   "metadata": {
    "papermill": {
     "duration": 0.034327,
     "end_time": "2022-04-06T14:05:57.684392",
     "exception": false,
     "start_time": "2022-04-06T14:05:57.650065",
     "status": "completed"
    },
    "tags": []
   },
   "source": [
    "In this exercise, you will work with data from the [Housing Prices Competition for Kaggle Learn Users](https://www.kaggle.com/c/home-data-for-ml-course). \n",
    "\n",
    "![Ames Housing dataset image](https://i.imgur.com/lTJVG4e.png)\n",
    "\n",
    "Run the next code cell without changes to load the training and validation sets in `X_train`, `X_valid`, `y_train`, and `y_valid`.  The test set is loaded in `X_test`."
   ]
  },
  {
   "cell_type": "code",
   "execution_count": 2,
   "id": "e876da98",
   "metadata": {
    "execution": {
     "iopub.execute_input": "2022-04-06T14:05:57.757493Z",
     "iopub.status.busy": "2022-04-06T14:05:57.756848Z",
     "iopub.status.idle": "2022-04-06T14:05:58.852461Z",
     "shell.execute_reply": "2022-04-06T14:05:58.851901Z",
     "shell.execute_reply.started": "2022-04-06T13:42:36.752797Z"
    },
    "papermill": {
     "duration": 1.132695,
     "end_time": "2022-04-06T14:05:58.852596",
     "exception": false,
     "start_time": "2022-04-06T14:05:57.719901",
     "status": "completed"
    },
    "tags": []
   },
   "outputs": [],
   "source": [
    "import pandas as pd\n",
    "from sklearn.model_selection import train_test_split\n",
    "\n",
    "# Read the data\n",
    "X = pd.read_csv('../input/train.csv', index_col='Id') \n",
    "X_test = pd.read_csv('../input/test.csv', index_col='Id')\n",
    "\n",
    "# Remove rows with missing target, separate target from predictors\n",
    "X.dropna(axis=0, subset=['SalePrice'], inplace=True)\n",
    "y = X.SalePrice\n",
    "X.drop(['SalePrice'], axis=1, inplace=True)\n",
    "\n",
    "# To keep things simple, we'll drop columns with missing values\n",
    "cols_with_missing = [col for col in X.columns if X[col].isnull().any()] \n",
    "X.drop(cols_with_missing, axis=1, inplace=True)\n",
    "X_test.drop(cols_with_missing, axis=1, inplace=True)\n",
    "\n",
    "# Break off validation set from training data\n",
    "X_train, X_valid, y_train, y_valid = train_test_split(X, y,\n",
    "                                                      train_size=0.8, test_size=0.2,\n",
    "                                                      random_state=0)"
   ]
  },
  {
   "cell_type": "markdown",
   "id": "f538be2d",
   "metadata": {
    "papermill": {
     "duration": 0.036615,
     "end_time": "2022-04-06T14:05:58.924532",
     "exception": false,
     "start_time": "2022-04-06T14:05:58.887917",
     "status": "completed"
    },
    "tags": []
   },
   "source": [
    "Use the next code cell to print the first five rows of the data."
   ]
  },
  {
   "cell_type": "code",
   "execution_count": 3,
   "id": "8c059c61",
   "metadata": {
    "execution": {
     "iopub.execute_input": "2022-04-06T14:05:59.000088Z",
     "iopub.status.busy": "2022-04-06T14:05:58.999097Z",
     "iopub.status.idle": "2022-04-06T14:05:59.027040Z",
     "shell.execute_reply": "2022-04-06T14:05:59.027570Z",
     "shell.execute_reply.started": "2022-04-06T13:42:36.852109Z"
    },
    "papermill": {
     "duration": 0.068177,
     "end_time": "2022-04-06T14:05:59.027740",
     "exception": false,
     "start_time": "2022-04-06T14:05:58.959563",
     "status": "completed"
    },
    "tags": []
   },
   "outputs": [
    {
     "data": {
      "text/html": [
       "<div>\n",
       "<style scoped>\n",
       "    .dataframe tbody tr th:only-of-type {\n",
       "        vertical-align: middle;\n",
       "    }\n",
       "\n",
       "    .dataframe tbody tr th {\n",
       "        vertical-align: top;\n",
       "    }\n",
       "\n",
       "    .dataframe thead th {\n",
       "        text-align: right;\n",
       "    }\n",
       "</style>\n",
       "<table border=\"1\" class=\"dataframe\">\n",
       "  <thead>\n",
       "    <tr style=\"text-align: right;\">\n",
       "      <th></th>\n",
       "      <th>MSSubClass</th>\n",
       "      <th>MSZoning</th>\n",
       "      <th>LotArea</th>\n",
       "      <th>Street</th>\n",
       "      <th>LotShape</th>\n",
       "      <th>LandContour</th>\n",
       "      <th>Utilities</th>\n",
       "      <th>LotConfig</th>\n",
       "      <th>LandSlope</th>\n",
       "      <th>Neighborhood</th>\n",
       "      <th>...</th>\n",
       "      <th>OpenPorchSF</th>\n",
       "      <th>EnclosedPorch</th>\n",
       "      <th>3SsnPorch</th>\n",
       "      <th>ScreenPorch</th>\n",
       "      <th>PoolArea</th>\n",
       "      <th>MiscVal</th>\n",
       "      <th>MoSold</th>\n",
       "      <th>YrSold</th>\n",
       "      <th>SaleType</th>\n",
       "      <th>SaleCondition</th>\n",
       "    </tr>\n",
       "    <tr>\n",
       "      <th>Id</th>\n",
       "      <th></th>\n",
       "      <th></th>\n",
       "      <th></th>\n",
       "      <th></th>\n",
       "      <th></th>\n",
       "      <th></th>\n",
       "      <th></th>\n",
       "      <th></th>\n",
       "      <th></th>\n",
       "      <th></th>\n",
       "      <th></th>\n",
       "      <th></th>\n",
       "      <th></th>\n",
       "      <th></th>\n",
       "      <th></th>\n",
       "      <th></th>\n",
       "      <th></th>\n",
       "      <th></th>\n",
       "      <th></th>\n",
       "      <th></th>\n",
       "      <th></th>\n",
       "    </tr>\n",
       "  </thead>\n",
       "  <tbody>\n",
       "    <tr>\n",
       "      <th>619</th>\n",
       "      <td>20</td>\n",
       "      <td>RL</td>\n",
       "      <td>11694</td>\n",
       "      <td>Pave</td>\n",
       "      <td>Reg</td>\n",
       "      <td>Lvl</td>\n",
       "      <td>AllPub</td>\n",
       "      <td>Inside</td>\n",
       "      <td>Gtl</td>\n",
       "      <td>NridgHt</td>\n",
       "      <td>...</td>\n",
       "      <td>108</td>\n",
       "      <td>0</td>\n",
       "      <td>0</td>\n",
       "      <td>260</td>\n",
       "      <td>0</td>\n",
       "      <td>0</td>\n",
       "      <td>7</td>\n",
       "      <td>2007</td>\n",
       "      <td>New</td>\n",
       "      <td>Partial</td>\n",
       "    </tr>\n",
       "    <tr>\n",
       "      <th>871</th>\n",
       "      <td>20</td>\n",
       "      <td>RL</td>\n",
       "      <td>6600</td>\n",
       "      <td>Pave</td>\n",
       "      <td>Reg</td>\n",
       "      <td>Lvl</td>\n",
       "      <td>AllPub</td>\n",
       "      <td>Inside</td>\n",
       "      <td>Gtl</td>\n",
       "      <td>NAmes</td>\n",
       "      <td>...</td>\n",
       "      <td>0</td>\n",
       "      <td>0</td>\n",
       "      <td>0</td>\n",
       "      <td>0</td>\n",
       "      <td>0</td>\n",
       "      <td>0</td>\n",
       "      <td>8</td>\n",
       "      <td>2009</td>\n",
       "      <td>WD</td>\n",
       "      <td>Normal</td>\n",
       "    </tr>\n",
       "    <tr>\n",
       "      <th>93</th>\n",
       "      <td>30</td>\n",
       "      <td>RL</td>\n",
       "      <td>13360</td>\n",
       "      <td>Pave</td>\n",
       "      <td>IR1</td>\n",
       "      <td>HLS</td>\n",
       "      <td>AllPub</td>\n",
       "      <td>Inside</td>\n",
       "      <td>Gtl</td>\n",
       "      <td>Crawfor</td>\n",
       "      <td>...</td>\n",
       "      <td>0</td>\n",
       "      <td>44</td>\n",
       "      <td>0</td>\n",
       "      <td>0</td>\n",
       "      <td>0</td>\n",
       "      <td>0</td>\n",
       "      <td>8</td>\n",
       "      <td>2009</td>\n",
       "      <td>WD</td>\n",
       "      <td>Normal</td>\n",
       "    </tr>\n",
       "    <tr>\n",
       "      <th>818</th>\n",
       "      <td>20</td>\n",
       "      <td>RL</td>\n",
       "      <td>13265</td>\n",
       "      <td>Pave</td>\n",
       "      <td>IR1</td>\n",
       "      <td>Lvl</td>\n",
       "      <td>AllPub</td>\n",
       "      <td>CulDSac</td>\n",
       "      <td>Gtl</td>\n",
       "      <td>Mitchel</td>\n",
       "      <td>...</td>\n",
       "      <td>59</td>\n",
       "      <td>0</td>\n",
       "      <td>0</td>\n",
       "      <td>0</td>\n",
       "      <td>0</td>\n",
       "      <td>0</td>\n",
       "      <td>7</td>\n",
       "      <td>2008</td>\n",
       "      <td>WD</td>\n",
       "      <td>Normal</td>\n",
       "    </tr>\n",
       "    <tr>\n",
       "      <th>303</th>\n",
       "      <td>20</td>\n",
       "      <td>RL</td>\n",
       "      <td>13704</td>\n",
       "      <td>Pave</td>\n",
       "      <td>IR1</td>\n",
       "      <td>Lvl</td>\n",
       "      <td>AllPub</td>\n",
       "      <td>Corner</td>\n",
       "      <td>Gtl</td>\n",
       "      <td>CollgCr</td>\n",
       "      <td>...</td>\n",
       "      <td>81</td>\n",
       "      <td>0</td>\n",
       "      <td>0</td>\n",
       "      <td>0</td>\n",
       "      <td>0</td>\n",
       "      <td>0</td>\n",
       "      <td>1</td>\n",
       "      <td>2006</td>\n",
       "      <td>WD</td>\n",
       "      <td>Normal</td>\n",
       "    </tr>\n",
       "  </tbody>\n",
       "</table>\n",
       "<p>5 rows × 60 columns</p>\n",
       "</div>"
      ],
      "text/plain": [
       "     MSSubClass MSZoning  LotArea Street LotShape LandContour Utilities  \\\n",
       "Id                                                                        \n",
       "619          20       RL    11694   Pave      Reg         Lvl    AllPub   \n",
       "871          20       RL     6600   Pave      Reg         Lvl    AllPub   \n",
       "93           30       RL    13360   Pave      IR1         HLS    AllPub   \n",
       "818          20       RL    13265   Pave      IR1         Lvl    AllPub   \n",
       "303          20       RL    13704   Pave      IR1         Lvl    AllPub   \n",
       "\n",
       "    LotConfig LandSlope Neighborhood  ... OpenPorchSF EnclosedPorch 3SsnPorch  \\\n",
       "Id                                    ...                                       \n",
       "619    Inside       Gtl      NridgHt  ...         108             0         0   \n",
       "871    Inside       Gtl        NAmes  ...           0             0         0   \n",
       "93     Inside       Gtl      Crawfor  ...           0            44         0   \n",
       "818   CulDSac       Gtl      Mitchel  ...          59             0         0   \n",
       "303    Corner       Gtl      CollgCr  ...          81             0         0   \n",
       "\n",
       "    ScreenPorch  PoolArea  MiscVal  MoSold  YrSold SaleType SaleCondition  \n",
       "Id                                                                         \n",
       "619         260         0        0       7    2007      New       Partial  \n",
       "871           0         0        0       8    2009       WD        Normal  \n",
       "93            0         0        0       8    2009       WD        Normal  \n",
       "818           0         0        0       7    2008       WD        Normal  \n",
       "303           0         0        0       1    2006       WD        Normal  \n",
       "\n",
       "[5 rows x 60 columns]"
      ]
     },
     "execution_count": 3,
     "metadata": {},
     "output_type": "execute_result"
    }
   ],
   "source": [
    "X_train.head()"
   ]
  },
  {
   "cell_type": "markdown",
   "id": "11aa3ab4",
   "metadata": {
    "papermill": {
     "duration": 0.036596,
     "end_time": "2022-04-06T14:05:59.101203",
     "exception": false,
     "start_time": "2022-04-06T14:05:59.064607",
     "status": "completed"
    },
    "tags": []
   },
   "source": [
    "Notice that the dataset contains both numerical and categorical variables.  You'll need to encode the categorical data before training a model.\n",
    "\n",
    "To compare different models, you'll use the same `score_dataset()` function from the tutorial.  This function reports the [mean absolute error](https://en.wikipedia.org/wiki/Mean_absolute_error) (MAE) from a random forest model."
   ]
  },
  {
   "cell_type": "code",
   "execution_count": 4,
   "id": "a5fc9bed",
   "metadata": {
    "execution": {
     "iopub.execute_input": "2022-04-06T14:05:59.175751Z",
     "iopub.status.busy": "2022-04-06T14:05:59.174725Z",
     "iopub.status.idle": "2022-04-06T14:05:59.359385Z",
     "shell.execute_reply": "2022-04-06T14:05:59.358823Z",
     "shell.execute_reply.started": "2022-04-06T13:42:36.879825Z"
    },
    "papermill": {
     "duration": 0.223188,
     "end_time": "2022-04-06T14:05:59.359607",
     "exception": false,
     "start_time": "2022-04-06T14:05:59.136419",
     "status": "completed"
    },
    "tags": []
   },
   "outputs": [],
   "source": [
    "from sklearn.ensemble import RandomForestRegressor\n",
    "from sklearn.metrics import mean_absolute_error\n",
    "\n",
    "# function for comparing different approaches\n",
    "def score_dataset(X_train, X_valid, y_train, y_valid):\n",
    "    model = RandomForestRegressor(n_estimators=100, random_state=0)\n",
    "    model.fit(X_train, y_train)\n",
    "    preds = model.predict(X_valid)\n",
    "    return mean_absolute_error(y_valid, preds)"
   ]
  },
  {
   "cell_type": "markdown",
   "id": "e789b528",
   "metadata": {
    "papermill": {
     "duration": 0.036545,
     "end_time": "2022-04-06T14:05:59.432393",
     "exception": false,
     "start_time": "2022-04-06T14:05:59.395848",
     "status": "completed"
    },
    "tags": []
   },
   "source": [
    "# Step 1: Drop columns with categorical data\n",
    "\n",
    "You'll get started with the most straightforward approach.  Use the code cell below to preprocess the data in `X_train` and `X_valid` to remove columns with categorical data.  Set the preprocessed DataFrames to `drop_X_train` and `drop_X_valid`, respectively.  "
   ]
  },
  {
   "cell_type": "code",
   "execution_count": 5,
   "id": "5225ef0a",
   "metadata": {
    "execution": {
     "iopub.execute_input": "2022-04-06T14:05:59.510490Z",
     "iopub.status.busy": "2022-04-06T14:05:59.509852Z",
     "iopub.status.idle": "2022-04-06T14:05:59.519498Z",
     "shell.execute_reply": "2022-04-06T14:05:59.519990Z",
     "shell.execute_reply.started": "2022-04-06T13:42:36.894867Z"
    },
    "papermill": {
     "duration": 0.051184,
     "end_time": "2022-04-06T14:05:59.520163",
     "exception": false,
     "start_time": "2022-04-06T14:05:59.468979",
     "status": "completed"
    },
    "tags": []
   },
   "outputs": [
    {
     "data": {
      "application/javascript": [
       "parent.postMessage({\"jupyterEvent\": \"custom.exercise_interaction\", \"data\": {\"outcomeType\": 1, \"valueTowardsCompletion\": 0.5, \"interactionType\": 1, \"questionType\": 2, \"questionId\": \"1_Drop\", \"learnToolsVersion\": \"0.3.4\", \"failureMessage\": \"\", \"exceptionClass\": \"\", \"trace\": \"\"}}, \"*\")"
      ],
      "text/plain": [
       "<IPython.core.display.Javascript object>"
      ]
     },
     "metadata": {},
     "output_type": "display_data"
    },
    {
     "data": {
      "text/markdown": [
       "<span style=\"color:#33cc33\">Correct</span>"
      ],
      "text/plain": [
       "Correct"
      ]
     },
     "metadata": {},
     "output_type": "display_data"
    }
   ],
   "source": [
    "# Fill in the lines below: drop columns in training and validation data\n",
    "drop_X_train = X_train.select_dtypes(exclude=['object'])\n",
    "drop_X_valid = X_valid.select_dtypes(exclude=['object'])\n",
    "\n",
    "# Check your answers\n",
    "step_1.check()"
   ]
  },
  {
   "cell_type": "code",
   "execution_count": 6,
   "id": "d7fac32a",
   "metadata": {
    "execution": {
     "iopub.execute_input": "2022-04-06T14:05:59.597548Z",
     "iopub.status.busy": "2022-04-06T14:05:59.596586Z",
     "iopub.status.idle": "2022-04-06T14:05:59.599828Z",
     "shell.execute_reply": "2022-04-06T14:05:59.600392Z",
     "shell.execute_reply.started": "2022-04-06T13:42:36.915367Z"
    },
    "papermill": {
     "duration": 0.043856,
     "end_time": "2022-04-06T14:05:59.600576",
     "exception": false,
     "start_time": "2022-04-06T14:05:59.556720",
     "status": "completed"
    },
    "tags": []
   },
   "outputs": [],
   "source": [
    "# Lines below will give you a hint or solution code\n",
    "#step_1.hint()\n",
    "#step_1.solution()"
   ]
  },
  {
   "cell_type": "markdown",
   "id": "ffb9e212",
   "metadata": {
    "papermill": {
     "duration": 0.036701,
     "end_time": "2022-04-06T14:05:59.674507",
     "exception": false,
     "start_time": "2022-04-06T14:05:59.637806",
     "status": "completed"
    },
    "tags": []
   },
   "source": [
    "Run the next code cell to get the MAE for this approach."
   ]
  },
  {
   "cell_type": "code",
   "execution_count": 7,
   "id": "354338fd",
   "metadata": {
    "execution": {
     "iopub.execute_input": "2022-04-06T14:05:59.757087Z",
     "iopub.status.busy": "2022-04-06T14:05:59.756359Z",
     "iopub.status.idle": "2022-04-06T14:06:00.814267Z",
     "shell.execute_reply": "2022-04-06T14:06:00.814969Z",
     "shell.execute_reply.started": "2022-04-06T13:42:36.920852Z"
    },
    "papermill": {
     "duration": 1.103267,
     "end_time": "2022-04-06T14:06:00.815144",
     "exception": false,
     "start_time": "2022-04-06T14:05:59.711877",
     "status": "completed"
    },
    "tags": []
   },
   "outputs": [
    {
     "name": "stdout",
     "output_type": "stream",
     "text": [
      "MAE from Approach 1 (Drop categorical variables):\n",
      "17837.82570776256\n"
     ]
    }
   ],
   "source": [
    "print(\"MAE from Approach 1 (Drop categorical variables):\")\n",
    "print(score_dataset(drop_X_train, drop_X_valid, y_train, y_valid))"
   ]
  },
  {
   "cell_type": "markdown",
   "id": "d856bc3b",
   "metadata": {
    "papermill": {
     "duration": 0.037249,
     "end_time": "2022-04-06T14:06:00.891060",
     "exception": false,
     "start_time": "2022-04-06T14:06:00.853811",
     "status": "completed"
    },
    "tags": []
   },
   "source": [
    "Before jumping into ordinal encoding, we'll investigate the dataset.  Specifically, we'll look at the `'Condition2'` column.  The code cell below prints the unique entries in both the training and validation sets."
   ]
  },
  {
   "cell_type": "code",
   "execution_count": 8,
   "id": "e5bcfbfe",
   "metadata": {
    "execution": {
     "iopub.execute_input": "2022-04-06T14:06:00.969432Z",
     "iopub.status.busy": "2022-04-06T14:06:00.968708Z",
     "iopub.status.idle": "2022-04-06T14:06:00.975485Z",
     "shell.execute_reply": "2022-04-06T14:06:00.976108Z",
     "shell.execute_reply.started": "2022-04-06T13:42:37.969297Z"
    },
    "papermill": {
     "duration": 0.047553,
     "end_time": "2022-04-06T14:06:00.976273",
     "exception": false,
     "start_time": "2022-04-06T14:06:00.928720",
     "status": "completed"
    },
    "tags": []
   },
   "outputs": [
    {
     "name": "stdout",
     "output_type": "stream",
     "text": [
      "Unique values in 'Condition2' column in training data: ['Norm' 'PosA' 'Feedr' 'PosN' 'Artery' 'RRAe']\n",
      "\n",
      "Unique values in 'Condition2' column in validation data: ['Norm' 'RRAn' 'RRNn' 'Artery' 'Feedr' 'PosN']\n"
     ]
    }
   ],
   "source": [
    "print(\"Unique values in 'Condition2' column in training data:\", X_train['Condition2'].unique())\n",
    "print(\"\\nUnique values in 'Condition2' column in validation data:\", X_valid['Condition2'].unique())"
   ]
  },
  {
   "cell_type": "markdown",
   "id": "7720e3c7",
   "metadata": {
    "papermill": {
     "duration": 0.039452,
     "end_time": "2022-04-06T14:06:01.054013",
     "exception": false,
     "start_time": "2022-04-06T14:06:01.014561",
     "status": "completed"
    },
    "tags": []
   },
   "source": [
    "# Step 2: Ordinal encoding\n",
    "\n",
    "### Part A\n",
    "\n",
    "If you now write code to: \n",
    "- fit an ordinal encoder to the training data, and then \n",
    "- use it to transform both the training and validation data, \n",
    "\n",
    "you'll get an error.  Can you see why this is the case?  (_You'll need  to use the above output to answer this question._)"
   ]
  },
  {
   "cell_type": "code",
   "execution_count": 9,
   "id": "598b7181",
   "metadata": {
    "execution": {
     "iopub.execute_input": "2022-04-06T14:06:01.134615Z",
     "iopub.status.busy": "2022-04-06T14:06:01.133994Z",
     "iopub.status.idle": "2022-04-06T14:06:01.139763Z",
     "shell.execute_reply": "2022-04-06T14:06:01.140360Z",
     "shell.execute_reply.started": "2022-04-06T13:42:37.978984Z"
    },
    "papermill": {
     "duration": 0.047927,
     "end_time": "2022-04-06T14:06:01.140560",
     "exception": false,
     "start_time": "2022-04-06T14:06:01.092633",
     "status": "completed"
    },
    "tags": []
   },
   "outputs": [
    {
     "data": {
      "application/javascript": [
       "parent.postMessage({\"jupyterEvent\": \"custom.exercise_interaction\", \"data\": {\"outcomeType\": 1, \"valueTowardsCompletion\": 0.5, \"interactionType\": 1, \"questionType\": 4, \"questionId\": \"2.1_LabelA\", \"learnToolsVersion\": \"0.3.4\", \"failureMessage\": \"\", \"exceptionClass\": \"\", \"trace\": \"\"}}, \"*\")"
      ],
      "text/plain": [
       "<IPython.core.display.Javascript object>"
      ]
     },
     "metadata": {},
     "output_type": "display_data"
    },
    {
     "data": {
      "text/markdown": [
       "<span style=\"color:#33cc33\">Correct:</span> \n",
       "\n",
       "Fitting an ordinal encoder to a column in the training data creates a corresponding integer-valued label for each unique value **that appears in the training data**. In the case that the validation data contains values that don't also appear in the training data, the encoder will throw an error, because these values won't have an integer assigned to them.  Notice that the `'Condition2'` column in the validation data contains the values `'RRAn'` and `'RRNn'`, but these don't appear in the training data -- thus, if we try to use an ordinal encoder with scikit-learn, the code will throw an error."
      ],
      "text/plain": [
       "Correct: \n",
       "\n",
       "Fitting an ordinal encoder to a column in the training data creates a corresponding integer-valued label for each unique value **that appears in the training data**. In the case that the validation data contains values that don't also appear in the training data, the encoder will throw an error, because these values won't have an integer assigned to them.  Notice that the `'Condition2'` column in the validation data contains the values `'RRAn'` and `'RRNn'`, but these don't appear in the training data -- thus, if we try to use an ordinal encoder with scikit-learn, the code will throw an error."
      ]
     },
     "metadata": {},
     "output_type": "display_data"
    }
   ],
   "source": [
    "# Check your answer (Run this code cell to receive credit!)\n",
    "step_2.a.check()"
   ]
  },
  {
   "cell_type": "code",
   "execution_count": 10,
   "id": "1a9a94dd",
   "metadata": {
    "execution": {
     "iopub.execute_input": "2022-04-06T14:06:01.222494Z",
     "iopub.status.busy": "2022-04-06T14:06:01.221796Z",
     "iopub.status.idle": "2022-04-06T14:06:01.224629Z",
     "shell.execute_reply": "2022-04-06T14:06:01.225264Z",
     "shell.execute_reply.started": "2022-04-06T13:42:37.997118Z"
    },
    "papermill": {
     "duration": 0.045395,
     "end_time": "2022-04-06T14:06:01.225430",
     "exception": false,
     "start_time": "2022-04-06T14:06:01.180035",
     "status": "completed"
    },
    "tags": []
   },
   "outputs": [],
   "source": [
    "#step_2.a.hint()"
   ]
  },
  {
   "cell_type": "markdown",
   "id": "9b9e6b20",
   "metadata": {
    "papermill": {
     "duration": 0.039797,
     "end_time": "2022-04-06T14:06:01.305653",
     "exception": false,
     "start_time": "2022-04-06T14:06:01.265856",
     "status": "completed"
    },
    "tags": []
   },
   "source": [
    "This is a common problem that you'll encounter with real-world data, and there are many approaches to fixing this issue.  For instance, you can write a custom ordinal encoder to deal with new categories.  The simplest approach, however, is to drop the problematic categorical columns.  \n",
    "\n",
    "Run the code cell below to save the problematic columns to a Python list `bad_label_cols`.  Likewise, columns that can be safely ordinal encoded are stored in `good_label_cols`."
   ]
  },
  {
   "cell_type": "code",
   "execution_count": 11,
   "id": "4b9a63c9",
   "metadata": {
    "execution": {
     "iopub.execute_input": "2022-04-06T14:06:01.387222Z",
     "iopub.status.busy": "2022-04-06T14:06:01.386619Z",
     "iopub.status.idle": "2022-04-06T14:06:01.402409Z",
     "shell.execute_reply": "2022-04-06T14:06:01.402955Z",
     "shell.execute_reply.started": "2022-04-06T13:42:38.002886Z"
    },
    "papermill": {
     "duration": 0.058079,
     "end_time": "2022-04-06T14:06:01.403124",
     "exception": false,
     "start_time": "2022-04-06T14:06:01.345045",
     "status": "completed"
    },
    "tags": []
   },
   "outputs": [
    {
     "name": "stdout",
     "output_type": "stream",
     "text": [
      "Categorical columns that will be ordinal encoded: ['MSZoning', 'Street', 'LotShape', 'LandContour', 'Utilities', 'LotConfig', 'LandSlope', 'Neighborhood', 'Condition1', 'BldgType', 'HouseStyle', 'RoofStyle', 'Exterior1st', 'Exterior2nd', 'ExterQual', 'ExterCond', 'Foundation', 'Heating', 'HeatingQC', 'CentralAir', 'KitchenQual', 'PavedDrive', 'SaleType', 'SaleCondition']\n",
      "\n",
      "Categorical columns that will be dropped from the dataset: ['Condition2', 'Functional', 'RoofMatl']\n"
     ]
    }
   ],
   "source": [
    "# Categorical columns in the training data\n",
    "object_cols = [col for col in X_train.columns if X_train[col].dtype == \"object\"]\n",
    "\n",
    "# Columns that can be safely ordinal encoded\n",
    "good_label_cols = [col for col in object_cols if \n",
    "                   set(X_valid[col]).issubset(set(X_train[col]))]\n",
    "        \n",
    "# Problematic columns that will be dropped from the dataset\n",
    "bad_label_cols = list(set(object_cols)-set(good_label_cols))\n",
    "        \n",
    "print('Categorical columns that will be ordinal encoded:', good_label_cols)\n",
    "print('\\nCategorical columns that will be dropped from the dataset:', bad_label_cols)"
   ]
  },
  {
   "cell_type": "markdown",
   "id": "5d197266",
   "metadata": {
    "papermill": {
     "duration": 0.039749,
     "end_time": "2022-04-06T14:06:01.482513",
     "exception": false,
     "start_time": "2022-04-06T14:06:01.442764",
     "status": "completed"
    },
    "tags": []
   },
   "source": [
    "### Part B\n",
    "\n",
    "Use the next code cell to ordinal encode the data in `X_train` and `X_valid`.  Set the preprocessed DataFrames to `label_X_train` and `label_X_valid`, respectively.  \n",
    "- We have provided code below to drop the categorical columns in `bad_label_cols` from the dataset. \n",
    "- You should ordinal encode the categorical columns in `good_label_cols`.  "
   ]
  },
  {
   "cell_type": "code",
   "execution_count": 12,
   "id": "0836d51f",
   "metadata": {
    "execution": {
     "iopub.execute_input": "2022-04-06T14:06:01.565081Z",
     "iopub.status.busy": "2022-04-06T14:06:01.564458Z",
     "iopub.status.idle": "2022-04-06T14:06:01.609094Z",
     "shell.execute_reply": "2022-04-06T14:06:01.609588Z",
     "shell.execute_reply.started": "2022-04-06T13:42:38.028978Z"
    },
    "papermill": {
     "duration": 0.08754,
     "end_time": "2022-04-06T14:06:01.609757",
     "exception": false,
     "start_time": "2022-04-06T14:06:01.522217",
     "status": "completed"
    },
    "tags": []
   },
   "outputs": [
    {
     "data": {
      "application/javascript": [
       "parent.postMessage({\"jupyterEvent\": \"custom.exercise_interaction\", \"data\": {\"outcomeType\": 1, \"valueTowardsCompletion\": 0.5, \"interactionType\": 1, \"questionType\": 2, \"questionId\": \"2.2_LabelB\", \"learnToolsVersion\": \"0.3.4\", \"failureMessage\": \"\", \"exceptionClass\": \"\", \"trace\": \"\"}}, \"*\")"
      ],
      "text/plain": [
       "<IPython.core.display.Javascript object>"
      ]
     },
     "metadata": {},
     "output_type": "display_data"
    },
    {
     "data": {
      "text/markdown": [
       "<span style=\"color:#33cc33\">Correct</span>"
      ],
      "text/plain": [
       "Correct"
      ]
     },
     "metadata": {},
     "output_type": "display_data"
    }
   ],
   "source": [
    "from sklearn.preprocessing import OrdinalEncoder\n",
    "\n",
    "# Drop categorical columns that will not be encoded\n",
    "label_X_train = X_train.drop(bad_label_cols, axis=1)\n",
    "label_X_valid = X_valid.drop(bad_label_cols, axis=1)\n",
    "\n",
    "# Apply ordinal encoder \n",
    "ordinal_encoder = OrdinalEncoder()\n",
    "label_X_train[good_label_cols] = ordinal_encoder.fit_transform(X_train[good_label_cols])\n",
    "label_X_valid[good_label_cols] = ordinal_encoder.transform(X_valid[good_label_cols])  # Your code here\n",
    "    \n",
    "# Check your answer\n",
    "step_2.b.check()"
   ]
  },
  {
   "cell_type": "code",
   "execution_count": 13,
   "id": "1d14a871",
   "metadata": {
    "execution": {
     "iopub.execute_input": "2022-04-06T14:06:01.695786Z",
     "iopub.status.busy": "2022-04-06T14:06:01.694779Z",
     "iopub.status.idle": "2022-04-06T14:06:01.697960Z",
     "shell.execute_reply": "2022-04-06T14:06:01.698544Z",
     "shell.execute_reply.started": "2022-04-06T13:42:38.088479Z"
    },
    "papermill": {
     "duration": 0.047846,
     "end_time": "2022-04-06T14:06:01.698712",
     "exception": false,
     "start_time": "2022-04-06T14:06:01.650866",
     "status": "completed"
    },
    "tags": []
   },
   "outputs": [],
   "source": [
    "# Lines below will give you a hint or solution code\n",
    "#step_2.b.hint()\n",
    "#step_2.b.solution()"
   ]
  },
  {
   "cell_type": "markdown",
   "id": "5abc4e60",
   "metadata": {
    "papermill": {
     "duration": 0.040468,
     "end_time": "2022-04-06T14:06:01.780374",
     "exception": false,
     "start_time": "2022-04-06T14:06:01.739906",
     "status": "completed"
    },
    "tags": []
   },
   "source": [
    "Run the next code cell to get the MAE for this approach."
   ]
  },
  {
   "cell_type": "code",
   "execution_count": 14,
   "id": "e7052c3e",
   "metadata": {
    "execution": {
     "iopub.execute_input": "2022-04-06T14:06:01.868144Z",
     "iopub.status.busy": "2022-04-06T14:06:01.867164Z",
     "iopub.status.idle": "2022-04-06T14:06:03.237551Z",
     "shell.execute_reply": "2022-04-06T14:06:03.238153Z",
     "shell.execute_reply.started": "2022-04-06T13:42:38.094904Z"
    },
    "papermill": {
     "duration": 1.416833,
     "end_time": "2022-04-06T14:06:03.238322",
     "exception": false,
     "start_time": "2022-04-06T14:06:01.821489",
     "status": "completed"
    },
    "tags": []
   },
   "outputs": [
    {
     "name": "stdout",
     "output_type": "stream",
     "text": [
      "MAE from Approach 2 (Ordinal Encoding):\n",
      "17098.01649543379\n"
     ]
    }
   ],
   "source": [
    "print(\"MAE from Approach 2 (Ordinal Encoding):\") \n",
    "print(score_dataset(label_X_train, label_X_valid, y_train, y_valid))"
   ]
  },
  {
   "cell_type": "markdown",
   "id": "3c386e45",
   "metadata": {
    "papermill": {
     "duration": 0.041599,
     "end_time": "2022-04-06T14:06:03.322395",
     "exception": false,
     "start_time": "2022-04-06T14:06:03.280796",
     "status": "completed"
    },
    "tags": []
   },
   "source": [
    "So far, you've tried two different approaches to dealing with categorical variables.  And, you've seen that encoding categorical data yields better results than removing columns from the dataset.\n",
    "\n",
    "Soon, you'll try one-hot encoding.  Before then, there's one additional topic we need to cover.  Begin by running the next code cell without changes.  "
   ]
  },
  {
   "cell_type": "code",
   "execution_count": 15,
   "id": "bb5a2a50",
   "metadata": {
    "execution": {
     "iopub.execute_input": "2022-04-06T14:06:03.409166Z",
     "iopub.status.busy": "2022-04-06T14:06:03.408541Z",
     "iopub.status.idle": "2022-04-06T14:06:03.420264Z",
     "shell.execute_reply": "2022-04-06T14:06:03.420877Z",
     "shell.execute_reply.started": "2022-04-06T13:42:39.423165Z"
    },
    "papermill": {
     "duration": 0.056934,
     "end_time": "2022-04-06T14:06:03.421048",
     "exception": false,
     "start_time": "2022-04-06T14:06:03.364114",
     "status": "completed"
    },
    "tags": []
   },
   "outputs": [
    {
     "data": {
      "text/plain": [
       "[('Street', 2),\n",
       " ('Utilities', 2),\n",
       " ('CentralAir', 2),\n",
       " ('LandSlope', 3),\n",
       " ('PavedDrive', 3),\n",
       " ('LotShape', 4),\n",
       " ('LandContour', 4),\n",
       " ('ExterQual', 4),\n",
       " ('KitchenQual', 4),\n",
       " ('MSZoning', 5),\n",
       " ('LotConfig', 5),\n",
       " ('BldgType', 5),\n",
       " ('ExterCond', 5),\n",
       " ('HeatingQC', 5),\n",
       " ('Condition2', 6),\n",
       " ('RoofStyle', 6),\n",
       " ('Foundation', 6),\n",
       " ('Heating', 6),\n",
       " ('Functional', 6),\n",
       " ('SaleCondition', 6),\n",
       " ('RoofMatl', 7),\n",
       " ('HouseStyle', 8),\n",
       " ('Condition1', 9),\n",
       " ('SaleType', 9),\n",
       " ('Exterior1st', 15),\n",
       " ('Exterior2nd', 16),\n",
       " ('Neighborhood', 25)]"
      ]
     },
     "execution_count": 15,
     "metadata": {},
     "output_type": "execute_result"
    }
   ],
   "source": [
    "# Get number of unique entries in each column with categorical data\n",
    "object_nunique = list(map(lambda col: X_train[col].nunique(), object_cols))\n",
    "d = dict(zip(object_cols, object_nunique))\n",
    "\n",
    "# Print number of unique entries by column, in ascending order\n",
    "sorted(d.items(), key=lambda x: x[1])"
   ]
  },
  {
   "cell_type": "markdown",
   "id": "89725d17",
   "metadata": {
    "papermill": {
     "duration": 0.041459,
     "end_time": "2022-04-06T14:06:03.504985",
     "exception": false,
     "start_time": "2022-04-06T14:06:03.463526",
     "status": "completed"
    },
    "tags": []
   },
   "source": [
    "# Step 3: Investigating cardinality\n",
    "\n",
    "### Part A\n",
    "\n",
    "The output above shows, for each column with categorical data, the number of unique values in the column.  For instance, the `'Street'` column in the training data has two unique values: `'Grvl'` and `'Pave'`, corresponding to a gravel road and a paved road, respectively.\n",
    "\n",
    "We refer to the number of unique entries of a categorical variable as the **cardinality** of that categorical variable.  For instance, the `'Street'` variable has cardinality 2.\n",
    "\n",
    "Use the output above to answer the questions below."
   ]
  },
  {
   "cell_type": "code",
   "execution_count": 16,
   "id": "06893608",
   "metadata": {
    "execution": {
     "iopub.execute_input": "2022-04-06T14:06:03.592357Z",
     "iopub.status.busy": "2022-04-06T14:06:03.591711Z",
     "iopub.status.idle": "2022-04-06T14:06:03.597813Z",
     "shell.execute_reply": "2022-04-06T14:06:03.598391Z",
     "shell.execute_reply.started": "2022-04-06T13:42:39.441317Z"
    },
    "papermill": {
     "duration": 0.051328,
     "end_time": "2022-04-06T14:06:03.598586",
     "exception": false,
     "start_time": "2022-04-06T14:06:03.547258",
     "status": "completed"
    },
    "tags": []
   },
   "outputs": [
    {
     "data": {
      "application/javascript": [
       "parent.postMessage({\"jupyterEvent\": \"custom.exercise_interaction\", \"data\": {\"outcomeType\": 1, \"valueTowardsCompletion\": 0.5, \"interactionType\": 1, \"questionType\": 1, \"questionId\": \"3.1_CardinalityA\", \"learnToolsVersion\": \"0.3.4\", \"failureMessage\": \"\", \"exceptionClass\": \"\", \"trace\": \"\"}}, \"*\")"
      ],
      "text/plain": [
       "<IPython.core.display.Javascript object>"
      ]
     },
     "metadata": {},
     "output_type": "display_data"
    },
    {
     "data": {
      "text/markdown": [
       "<span style=\"color:#33cc33\">Correct</span>"
      ],
      "text/plain": [
       "Correct"
      ]
     },
     "metadata": {},
     "output_type": "display_data"
    }
   ],
   "source": [
    "# Fill in the line below: How many categorical variables in the training data\n",
    "# have cardinality greater than 10?\n",
    "high_cardinality_numcols = 3\n",
    "\n",
    "# Fill in the line below: How many columns are needed to one-hot encode the \n",
    "# 'Neighborhood' variable in the training data?\n",
    "num_cols_neighborhood = 25\n",
    "\n",
    "# Check your answers\n",
    "step_3.a.check()"
   ]
  },
  {
   "cell_type": "code",
   "execution_count": 17,
   "id": "f900db40",
   "metadata": {
    "execution": {
     "iopub.execute_input": "2022-04-06T14:06:03.687961Z",
     "iopub.status.busy": "2022-04-06T14:06:03.687370Z",
     "iopub.status.idle": "2022-04-06T14:06:03.689872Z",
     "shell.execute_reply": "2022-04-06T14:06:03.690432Z",
     "shell.execute_reply.started": "2022-04-06T13:42:39.451088Z"
    },
    "papermill": {
     "duration": 0.048445,
     "end_time": "2022-04-06T14:06:03.690602",
     "exception": false,
     "start_time": "2022-04-06T14:06:03.642157",
     "status": "completed"
    },
    "tags": []
   },
   "outputs": [],
   "source": [
    "# Lines below will give you a hint or solution code\n",
    "#step_3.a.hint()\n",
    "#step_3.a.solution()"
   ]
  },
  {
   "cell_type": "markdown",
   "id": "823fa0f2",
   "metadata": {
    "papermill": {
     "duration": 0.043291,
     "end_time": "2022-04-06T14:06:03.777418",
     "exception": false,
     "start_time": "2022-04-06T14:06:03.734127",
     "status": "completed"
    },
    "tags": []
   },
   "source": [
    "### Part B\n",
    "\n",
    "For large datasets with many rows, one-hot encoding can greatly expand the size of the dataset.  For this reason, we typically will only one-hot encode columns with relatively low cardinality.  Then, high cardinality columns can either be dropped from the dataset, or we can use ordinal encoding.\n",
    "\n",
    "As an example, consider a dataset with 10,000 rows, and containing one categorical column with 100 unique entries.  \n",
    "- If this column is replaced with the corresponding one-hot encoding, how many entries are added to the dataset?  \n",
    "- If we instead replace the column with the ordinal encoding, how many entries are added?  \n",
    "\n",
    "Use your answers to fill in the lines below."
   ]
  },
  {
   "cell_type": "code",
   "execution_count": 18,
   "id": "2f5b2c51",
   "metadata": {
    "execution": {
     "iopub.execute_input": "2022-04-06T14:06:03.866075Z",
     "iopub.status.busy": "2022-04-06T14:06:03.865440Z",
     "iopub.status.idle": "2022-04-06T14:06:03.871611Z",
     "shell.execute_reply": "2022-04-06T14:06:03.872206Z",
     "shell.execute_reply.started": "2022-04-06T13:42:39.459138Z"
    },
    "papermill": {
     "duration": 0.052025,
     "end_time": "2022-04-06T14:06:03.872369",
     "exception": false,
     "start_time": "2022-04-06T14:06:03.820344",
     "status": "completed"
    },
    "tags": []
   },
   "outputs": [
    {
     "data": {
      "application/javascript": [
       "parent.postMessage({\"jupyterEvent\": \"custom.exercise_interaction\", \"data\": {\"outcomeType\": 1, \"valueTowardsCompletion\": 0.5, \"interactionType\": 1, \"questionType\": 1, \"questionId\": \"3.2_CardinalityB\", \"learnToolsVersion\": \"0.3.4\", \"failureMessage\": \"\", \"exceptionClass\": \"\", \"trace\": \"\"}}, \"*\")"
      ],
      "text/plain": [
       "<IPython.core.display.Javascript object>"
      ]
     },
     "metadata": {},
     "output_type": "display_data"
    },
    {
     "data": {
      "text/markdown": [
       "<span style=\"color:#33cc33\">Correct</span>"
      ],
      "text/plain": [
       "Correct"
      ]
     },
     "metadata": {},
     "output_type": "display_data"
    }
   ],
   "source": [
    "\n",
    "# How many entries are added to the dataset by\n",
    "# replacing the column with a one-hot encoding?\n",
    "OH_entries_added = 1e4*100 - 1e4\n",
    "\n",
    "# How many entries are added to the dataset by\n",
    "# replacing the column with an ordinal encoding?\n",
    "label_entries_added = 0\n",
    "\n",
    "\n",
    "step_3.b.check()"
   ]
  },
  {
   "cell_type": "code",
   "execution_count": 19,
   "id": "077e279b",
   "metadata": {
    "execution": {
     "iopub.execute_input": "2022-04-06T14:06:03.966201Z",
     "iopub.status.busy": "2022-04-06T14:06:03.965589Z",
     "iopub.status.idle": "2022-04-06T14:06:03.967119Z",
     "shell.execute_reply": "2022-04-06T14:06:03.967680Z",
     "shell.execute_reply.started": "2022-04-06T13:42:39.475454Z"
    },
    "papermill": {
     "duration": 0.049785,
     "end_time": "2022-04-06T14:06:03.967856",
     "exception": false,
     "start_time": "2022-04-06T14:06:03.918071",
     "status": "completed"
    },
    "tags": []
   },
   "outputs": [],
   "source": [
    "# Lines below will give you a hint or solution code\n",
    "#step_3.b.hint()\n",
    "#step_3.b.solution()"
   ]
  },
  {
   "cell_type": "markdown",
   "id": "e50e33ad",
   "metadata": {
    "papermill": {
     "duration": 0.044602,
     "end_time": "2022-04-06T14:06:04.057359",
     "exception": false,
     "start_time": "2022-04-06T14:06:04.012757",
     "status": "completed"
    },
    "tags": []
   },
   "source": [
    "Next, you'll experiment with one-hot encoding.  But, instead of encoding all of the categorical variables in the dataset, you'll only create a one-hot encoding for columns with cardinality less than 10.\n",
    "\n",
    "Run the code cell below without changes to set `low_cardinality_cols` to a Python list containing the columns that will be one-hot encoded.  Likewise, `high_cardinality_cols` contains a list of categorical columns that will be dropped from the dataset."
   ]
  },
  {
   "cell_type": "code",
   "execution_count": 20,
   "id": "fabdacb2",
   "metadata": {
    "execution": {
     "iopub.execute_input": "2022-04-06T14:06:04.148805Z",
     "iopub.status.busy": "2022-04-06T14:06:04.148189Z",
     "iopub.status.idle": "2022-04-06T14:06:04.159301Z",
     "shell.execute_reply": "2022-04-06T14:06:04.160054Z",
     "shell.execute_reply.started": "2022-04-06T13:42:39.483506Z"
    },
    "papermill": {
     "duration": 0.058545,
     "end_time": "2022-04-06T14:06:04.160266",
     "exception": false,
     "start_time": "2022-04-06T14:06:04.101721",
     "status": "completed"
    },
    "tags": []
   },
   "outputs": [
    {
     "name": "stdout",
     "output_type": "stream",
     "text": [
      "Categorical columns that will be one-hot encoded: ['MSZoning', 'Street', 'LotShape', 'LandContour', 'Utilities', 'LotConfig', 'LandSlope', 'Condition1', 'Condition2', 'BldgType', 'HouseStyle', 'RoofStyle', 'RoofMatl', 'ExterQual', 'ExterCond', 'Foundation', 'Heating', 'HeatingQC', 'CentralAir', 'KitchenQual', 'Functional', 'PavedDrive', 'SaleType', 'SaleCondition']\n",
      "\n",
      "Categorical columns that will be dropped from the dataset: ['Neighborhood', 'Exterior2nd', 'Exterior1st']\n"
     ]
    }
   ],
   "source": [
    "# Columns that will be one-hot encoded\n",
    "low_cardinality_cols = [col for col in object_cols if X_train[col].nunique() < 10]\n",
    "\n",
    "# Columns that will be dropped from the dataset\n",
    "high_cardinality_cols = list(set(object_cols)-set(low_cardinality_cols))\n",
    "\n",
    "print('Categorical columns that will be one-hot encoded:', low_cardinality_cols)\n",
    "print('\\nCategorical columns that will be dropped from the dataset:', high_cardinality_cols)"
   ]
  },
  {
   "cell_type": "markdown",
   "id": "453934c8",
   "metadata": {
    "papermill": {
     "duration": 0.045082,
     "end_time": "2022-04-06T14:06:04.251351",
     "exception": false,
     "start_time": "2022-04-06T14:06:04.206269",
     "status": "completed"
    },
    "tags": []
   },
   "source": [
    "# Step 4: One-hot encoding\n",
    "\n",
    "Use the next code cell to one-hot encode the data in `X_train` and `X_valid`.  Set the preprocessed DataFrames to `OH_X_train` and `OH_X_valid`, respectively.  \n",
    "- The full list of categorical columns in the dataset can be found in the Python list `object_cols`.\n",
    "- You should only one-hot encode the categorical columns in `low_cardinality_cols`.  All other categorical columns should be dropped from the dataset. "
   ]
  },
  {
   "cell_type": "code",
   "execution_count": 21,
   "id": "293242f6",
   "metadata": {
    "execution": {
     "iopub.execute_input": "2022-04-06T14:06:04.345201Z",
     "iopub.status.busy": "2022-04-06T14:06:04.344208Z",
     "iopub.status.idle": "2022-04-06T14:06:04.384385Z",
     "shell.execute_reply": "2022-04-06T14:06:04.384957Z",
     "shell.execute_reply.started": "2022-04-06T13:51:24.682829Z"
    },
    "papermill": {
     "duration": 0.088693,
     "end_time": "2022-04-06T14:06:04.385134",
     "exception": false,
     "start_time": "2022-04-06T14:06:04.296441",
     "status": "completed"
    },
    "tags": []
   },
   "outputs": [
    {
     "data": {
      "application/javascript": [
       "parent.postMessage({\"jupyterEvent\": \"custom.exercise_interaction\", \"data\": {\"outcomeType\": 1, \"valueTowardsCompletion\": 0.5, \"interactionType\": 1, \"questionType\": 2, \"questionId\": \"4_OneHot\", \"learnToolsVersion\": \"0.3.4\", \"failureMessage\": \"\", \"exceptionClass\": \"\", \"trace\": \"\"}}, \"*\")"
      ],
      "text/plain": [
       "<IPython.core.display.Javascript object>"
      ]
     },
     "metadata": {},
     "output_type": "display_data"
    },
    {
     "data": {
      "text/markdown": [
       "<span style=\"color:#33cc33\">Correct</span>"
      ],
      "text/plain": [
       "Correct"
      ]
     },
     "metadata": {},
     "output_type": "display_data"
    }
   ],
   "source": [
    "from sklearn.preprocessing import OneHotEncoder\n",
    "# import warnings filter\n",
    "from warnings import simplefilter\n",
    "# ignore all future warnings\n",
    "simplefilter(action='ignore', category=FutureWarning)\n",
    "\n",
    "# Apply one-hot encoder to each column with categorical data\n",
    "OH_encoder = OneHotEncoder(handle_unknown='ignore', sparse=False)\n",
    "OH_cols_train = pd.DataFrame(OH_encoder.fit_transform(X_train[low_cardinality_cols]))\n",
    "OH_cols_valid = pd.DataFrame(OH_encoder.transform(X_valid[low_cardinality_cols]))\n",
    "\n",
    "# One-hot encoding removed index; put it back\n",
    "OH_cols_train.index = X_train.index\n",
    "OH_cols_valid.index = X_valid.index\n",
    "\n",
    "# Remove categorical columns (will replace with one-hot encoding)\n",
    "num_X_train = X_train.drop(object_cols, axis=1)\n",
    "num_X_valid = X_valid.drop(object_cols, axis=1)\n",
    "\n",
    "# Add one-hot encoded columns to numerical features\n",
    "OH_X_train = pd.concat([num_X_train, OH_cols_train], axis=1) \n",
    "OH_X_valid = pd.concat([num_X_valid, OH_cols_valid], axis=1)\n",
    "step_4.check()"
   ]
  },
  {
   "cell_type": "code",
   "execution_count": 22,
   "id": "2c34586d",
   "metadata": {
    "execution": {
     "iopub.execute_input": "2022-04-06T14:06:04.481388Z",
     "iopub.status.busy": "2022-04-06T14:06:04.479966Z",
     "iopub.status.idle": "2022-04-06T14:06:04.482835Z",
     "shell.execute_reply": "2022-04-06T14:06:04.483411Z",
     "shell.execute_reply.started": "2022-04-06T13:42:39.54599Z"
    },
    "papermill": {
     "duration": 0.052191,
     "end_time": "2022-04-06T14:06:04.483614",
     "exception": false,
     "start_time": "2022-04-06T14:06:04.431423",
     "status": "completed"
    },
    "tags": []
   },
   "outputs": [],
   "source": [
    "# Lines below will give you a hint or solution code\n",
    "#step_4.hint()\n",
    "#step_4.solution()"
   ]
  },
  {
   "cell_type": "markdown",
   "id": "3d32719c",
   "metadata": {
    "papermill": {
     "duration": 0.046262,
     "end_time": "2022-04-06T14:06:04.575415",
     "exception": false,
     "start_time": "2022-04-06T14:06:04.529153",
     "status": "completed"
    },
    "tags": []
   },
   "source": [
    "Run the next code cell to get the MAE for this approach."
   ]
  },
  {
   "cell_type": "code",
   "execution_count": 23,
   "id": "5ad100a9",
   "metadata": {
    "execution": {
     "iopub.execute_input": "2022-04-06T14:06:04.670098Z",
     "iopub.status.busy": "2022-04-06T14:06:04.669498Z",
     "iopub.status.idle": "2022-04-06T14:06:06.372413Z",
     "shell.execute_reply": "2022-04-06T14:06:06.371773Z",
     "shell.execute_reply.started": "2022-04-06T13:42:39.550427Z"
    },
    "papermill": {
     "duration": 1.751557,
     "end_time": "2022-04-06T14:06:06.372618",
     "exception": false,
     "start_time": "2022-04-06T14:06:04.621061",
     "status": "completed"
    },
    "tags": []
   },
   "outputs": [
    {
     "name": "stdout",
     "output_type": "stream",
     "text": [
      "MAE from Approach 3 (One-Hot Encoding):\n",
      "17525.345719178084\n"
     ]
    }
   ],
   "source": [
    "print(\"MAE from Approach 3 (One-Hot Encoding):\") \n",
    "print(score_dataset(OH_X_train, OH_X_valid, y_train, y_valid))"
   ]
  },
  {
   "cell_type": "markdown",
   "id": "6c14e2d3",
   "metadata": {
    "papermill": {
     "duration": 0.04603,
     "end_time": "2022-04-06T14:06:06.468368",
     "exception": false,
     "start_time": "2022-04-06T14:06:06.422338",
     "status": "completed"
    },
    "tags": []
   },
   "source": [
    "# Keep going\n",
    "\n",
    "With missing value handling and categorical encoding, your modeling process is getting complex. This complexity gets worse when you want to save your model to use in the future. The key to managing this complexity is something called **pipelines**. \n",
    "\n",
    "**[Learn to use pipelines](https://www.kaggle.com/alexisbcook/pipelines)** to preprocess datasets with categorical variables, missing values and any other messiness your data throws at you."
   ]
  },
  {
   "cell_type": "markdown",
   "id": "7d9b5064",
   "metadata": {
    "papermill": {
     "duration": 0.046647,
     "end_time": "2022-04-06T14:06:06.561410",
     "exception": false,
     "start_time": "2022-04-06T14:06:06.514763",
     "status": "completed"
    },
    "tags": []
   },
   "source": [
    "---\n",
    "\n",
    "\n",
    "\n",
    "\n",
    "*Have questions or comments? Visit the [course discussion forum](https://www.kaggle.com/learn/intermediate-machine-learning/discussion) to chat with other learners.*"
   ]
  }
 ],
 "metadata": {
  "kernelspec": {
   "display_name": "Python 3",
   "language": "python",
   "name": "python3"
  },
  "language_info": {
   "codemirror_mode": {
    "name": "ipython",
    "version": 3
   },
   "file_extension": ".py",
   "mimetype": "text/x-python",
   "name": "python",
   "nbconvert_exporter": "python",
   "pygments_lexer": "ipython3",
   "version": "3.7.12"
  },
  "papermill": {
   "default_parameters": {},
   "duration": 21.558116,
   "end_time": "2022-04-06T14:06:09.754880",
   "environment_variables": {},
   "exception": null,
   "input_path": "__notebook__.ipynb",
   "output_path": "__notebook__.ipynb",
   "parameters": {},
   "start_time": "2022-04-06T14:05:48.196764",
   "version": "2.3.3"
  }
 },
 "nbformat": 4,
 "nbformat_minor": 5
}
